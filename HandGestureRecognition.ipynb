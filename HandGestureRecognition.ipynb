{
 "cells": [
  {
   "cell_type": "markdown",
   "metadata": {},
   "source": [
    "# Gesture Recognition\n",
    "In this group project, you are going to build a 3D Conv model that will be able to predict the 5 gestures correctly. Please import the following libraries to get started."
   ]
  },
  {
   "cell_type": "code",
   "execution_count": 1,
   "metadata": {},
   "outputs": [],
   "source": [
    "import numpy as np\n",
    "import os\n",
    "from matplotlib.pyplot import imread\n",
    "import cv2\n",
    "import datetime\n",
    "import os"
   ]
  },
  {
   "cell_type": "markdown",
   "metadata": {},
   "source": [
    "We set the random seed so that the results don't vary drastically."
   ]
  },
  {
   "cell_type": "code",
   "execution_count": 2,
   "metadata": {},
   "outputs": [],
   "source": [
    "np.random.seed(30)\n",
    "import random as rn\n",
    "rn.seed(30)\n",
    "from keras import backend as K\n",
    "import tensorflow as tf\n",
    "tf.random.set_seed(30)"
   ]
  },
  {
   "cell_type": "markdown",
   "metadata": {},
   "source": [
    "In this block, you read the folder names for training and validation. You also set the `batch_size` here. Note that you set the batch size in such a way that you are able to use the GPU in full capacity. You keep increasing the batch size until the machine throws an error."
   ]
  },
  {
   "cell_type": "code",
   "execution_count": 3,
   "metadata": {},
   "outputs": [],
   "source": [
    "train_doc = np.random.permutation(open('Project_data/train.csv').readlines())\n",
    "val_doc = np.random.permutation(open('Project_data/val.csv').readlines())"
   ]
  },
  {
   "cell_type": "code",
   "execution_count": 4,
   "metadata": {},
   "outputs": [
    {
     "name": "stdout",
     "output_type": "stream",
     "text": [
      "663\n",
      "100\n"
     ]
    }
   ],
   "source": [
    "print(len(train_doc))\n",
    "print(len(val_doc))"
   ]
  },
  {
   "cell_type": "code",
   "execution_count": 5,
   "metadata": {},
   "outputs": [],
   "source": [
    "def standardize(img):\n",
    "    mean = np.mean(img)\n",
    "    std = np.std(img)\n",
    "    img = (img - mean) / std\n",
    "    return img"
   ]
  },
  {
   "cell_type": "markdown",
   "metadata": {},
   "source": [
    "## Generator\n",
    "This is one of the most important part of the code. The overall structure of the generator has been given. In the generator, you are going to preprocess the images as you have images of 2 different dimensions as well as create a batch of video frames. You have to experiment with `img_idx`, `y`,`z` and normalization such that you get high accuracy."
   ]
  },
  {
   "cell_type": "code",
   "execution_count": 6,
   "metadata": {},
   "outputs": [],
   "source": [
    "def generator(source_path, folder_list, batch_size):\n",
    "    print( 'Source path = ', source_path, '; batch size =', batch_size)\n",
    "    img_idx = [0,1,2,3,4,5,6,7,8,10,12,14,15,16,17,18,19,20,22,24,25,26,27,28,29] #create a list of image numbers you want to use for a particular video\n",
    "    while True:\n",
    "        t = np.random.permutation(folder_list)\n",
    "        num_batches = int(len(t)/batch_size) # calculate the number of batches\n",
    "        for batch in range(num_batches): # we iterate over the number of batches\n",
    "            batch_data = np.zeros((batch_size,25,80,80,3)) # x is the number of images you use for each video, (y,z) is the final size of the input images and 3 is the number of channels RGB\n",
    "            batch_labels = np.zeros((batch_size,5)) # batch_labels is the one hot representation of the output\n",
    "            for folder in range(batch_size): # iterate over the batch_size\n",
    "                imgs = os.listdir(source_path+'/'+ t[folder + (batch*batch_size)].split(';')[0]) # read all the images in the folder\n",
    "                for idx,item in enumerate(img_idx): #  Iterate iver the frames/images of a folder to read them in\n",
    "                    image = imread(source_path+'/'+ t[folder + (batch*batch_size)].strip().split(';')[0]+'/'+imgs[item]).astype(np.float32)\n",
    "                    \n",
    "                    #crop the images and resize them. Note that the images are of 2 different shape \n",
    "                    #and the conv3D will throw error if the inputs in a batch have different shapes\n",
    "                    if image.shape[1] == 160:\n",
    "                        image = cv2.resize(image[:,20:140,:],(80,80)).astype(np.float32)\n",
    "                    else:\n",
    "                        image = cv2.resize(image[:,20:340,:],(80,80)).astype(np.float32)\n",
    "                        \n",
    "                    batch_data[folder,idx,:,:,0] = standardize(image[:,:,0]) #normalise and feed in the image\n",
    "                    batch_data[folder,idx,:,:,1] = standardize(image[:,:,1]) #normalise and feed in the image\n",
    "                    batch_data[folder,idx,:,:,2] = standardize(image[:,:,2]) #normalise and feed in the image\n",
    "                    \n",
    "                batch_labels[folder, int(t[folder + (batch*batch_size)].strip().split(';')[2])] = 1\n",
    "            yield batch_data, batch_labels #you yield the batch_data and the batch_labels, remember what does yield do\n",
    "\n",
    "        \n",
    "        # write the code for the remaining data points which are left after full batches\n",
    "        if (len(t)%batch_size) != 0:\n",
    "            batch_data = np.zeros((len(t)%batch_size,25,80,80,3))\n",
    "            batch_labels = np.zeros((len(t)%batch_size,5))\n",
    "            for folder in range(len(t)%batch_size):\n",
    "                imgs = os.listdir(source_path+'/'+ t[folder + (num_batches*batch_size)].split(';')[0])\n",
    "                for idx,item in enumerate(img_idx):\n",
    "                    image = imread(source_path+'/'+ t[folder + (num_batches*batch_size)].strip().split(';')[0]+'/'+imgs[item]).astype(np.float32)\n",
    "                    if image.shape[1] == 160:\n",
    "                        image = cv2.resize(image[:,20:140,:],(80,80)).astype(np.float32)\n",
    "                    else:\n",
    "                        image = cv2.resize(image[:,20:340,:],(80,80)).astype(np.float32)\n",
    "\n",
    "                    batch_data[folder,idx,:,:,0] = standardize(image[:,:,0]) #normalise and feed in the image\n",
    "                    batch_data[folder,idx,:,:,1] = standardize(image[:,:,1]) #normalise and feed in the image\n",
    "                    batch_data[folder,idx,:,:,2] = standardize(image[:,:,2]) #normalise and feed in the image\n",
    "\n",
    "                batch_labels[folder, int(t[folder + (num_batches*batch_size)].strip().split(';')[2])] = 1\n",
    "\n",
    "            yield batch_data, batch_labels\n"
   ]
  },
  {
   "cell_type": "markdown",
   "metadata": {},
   "source": [
    "Note here that a video is represented above in the generator as (number of images, height, width, number of channels). Take this into consideration while creating the model architecture."
   ]
  },
  {
   "cell_type": "code",
   "execution_count": 7,
   "metadata": {},
   "outputs": [
    {
     "name": "stdout",
     "output_type": "stream",
     "text": [
      "# training sequences = 663\n",
      "# validation sequences = 100\n",
      "# epochs = 40\n"
     ]
    }
   ],
   "source": [
    "curr_dt_time = datetime.datetime.now()\n",
    "train_path = 'Project_data/train'\n",
    "val_path = 'Project_data/val'\n",
    "num_train_sequences = len(train_doc)\n",
    "print('# training sequences =', num_train_sequences)\n",
    "num_val_sequences = len(val_doc)\n",
    "print('# validation sequences =', num_val_sequences)\n",
    "num_epochs = 40 # choose the number of epochs\n",
    "print ('# epochs =', num_epochs)\n",
    "batch_size = 32 #experiment with the batch size"
   ]
  },
  {
   "cell_type": "markdown",
   "metadata": {},
   "source": [
    "## Model\n",
    "Here you make the model using different functionalities that Keras provides. Remember to use `Conv3D` and `MaxPooling3D` and not `Conv2D` and `Maxpooling2D` for a 3D convolution model. You would want to use `TimeDistributed` while building a Conv2D + RNN model. Also remember that the last layer is the softmax. Design the network in such a way that the model is able to give good accuracy on the least number of parameters so that it can fit in the memory of the webcam."
   ]
  },
  {
   "cell_type": "code",
   "execution_count": 8,
   "metadata": {},
   "outputs": [
    {
     "name": "stderr",
     "output_type": "stream",
     "text": [
      "2022-12-11 05:28:52.156869: W tensorflow/core/common_runtime/gpu/gpu_bfc_allocator.cc:39] Overriding allow_growth setting because the TF_FORCE_GPU_ALLOW_GROWTH environment variable is set. Original config value was 0.\n",
      "2022-12-11 05:28:52.156951: I tensorflow/core/common_runtime/gpu/gpu_device.cc:1525] Created device /job:localhost/replica:0/task:0/device:GPU:0 with 14802 MB memory:  -> device: 0, name: Quadro RTX 5000, pci bus id: 0000:1d:00.0, compute capability: 7.5\n"
     ]
    }
   ],
   "source": [
    "from keras.models import Sequential, Model\n",
    "from keras.layers import Dense, GRU, Flatten, TimeDistributed, Flatten, BatchNormalization, Activation,Dropout\n",
    "from keras.layers.convolutional import Conv3D, MaxPooling3D\n",
    "from keras.callbacks import ModelCheckpoint, ReduceLROnPlateau\n",
    "from keras import optimizers\n",
    "\n",
    "#write your model here\n",
    "model = Sequential()\n",
    "model.add(Conv3D(64, (3,3,3), strides=(1,1,1), padding='same', input_shape=(25,80,80,3)))\n",
    "model.add(BatchNormalization())\n",
    "model.add(Activation('relu'))\n",
    "model.add(MaxPooling3D(pool_size=(2,2,1), strides=(2,2,1)))\n",
    "\n",
    "model.add(Conv3D(128, (3,3,3), strides=(1,1,1), padding='same'))\n",
    "model.add(BatchNormalization())\n",
    "model.add(Activation('relu'))\n",
    "model.add(MaxPooling3D(pool_size=(2,2,2), strides=(2,2,2)))\n",
    "\n",
    "\n",
    "model.add(Conv3D(256, (3,3,3), strides=(1,1,1), padding='same'))\n",
    "model.add(BatchNormalization())\n",
    "model.add(Activation('relu'))\n",
    "model.add(MaxPooling3D(pool_size=(2,2,2), strides=(2,2,2)))\n",
    "\n",
    "\n",
    "model.add(Conv3D(256, (3,3,3), strides=(1,1,1), padding='same'))\n",
    "model.add(BatchNormalization())\n",
    "model.add(Activation('relu'))\n",
    "model.add(MaxPooling3D(pool_size=(2,2,2), strides=(2,2,2)))\n",
    "\n",
    "model.add(Flatten())\n",
    "model.add(Dropout(0.5))\n",
    "model.add(Dense(512, activation='relu'))\n",
    "model.add(Dropout(0.5))\n",
    "model.add(Dense(5, activation='softmax'))"
   ]
  },
  {
   "cell_type": "markdown",
   "metadata": {},
   "source": [
    "Now that you have written the model, the next step is to `compile` the model. When you print the `summary` of the model, you'll see the total number of parameters you have to train."
   ]
  },
  {
   "cell_type": "code",
   "execution_count": 9,
   "metadata": {
    "scrolled": true
   },
   "outputs": [
    {
     "name": "stdout",
     "output_type": "stream",
     "text": [
      "Model: \"sequential\"\n",
      "_________________________________________________________________\n",
      " Layer (type)                Output Shape              Param #   \n",
      "=================================================================\n",
      " conv3d (Conv3D)             (None, 25, 80, 80, 64)    5248      \n",
      "                                                                 \n",
      " batch_normalization (BatchN  (None, 25, 80, 80, 64)   256       \n",
      " ormalization)                                                   \n",
      "                                                                 \n",
      " activation (Activation)     (None, 25, 80, 80, 64)    0         \n",
      "                                                                 \n",
      " max_pooling3d (MaxPooling3D  (None, 12, 40, 80, 64)   0         \n",
      " )                                                               \n",
      "                                                                 \n",
      " conv3d_1 (Conv3D)           (None, 12, 40, 80, 128)   221312    \n",
      "                                                                 \n",
      " batch_normalization_1 (Batc  (None, 12, 40, 80, 128)  512       \n",
      " hNormalization)                                                 \n",
      "                                                                 \n",
      " activation_1 (Activation)   (None, 12, 40, 80, 128)   0         \n",
      "                                                                 \n",
      " max_pooling3d_1 (MaxPooling  (None, 6, 20, 40, 128)   0         \n",
      " 3D)                                                             \n",
      "                                                                 \n",
      " conv3d_2 (Conv3D)           (None, 6, 20, 40, 256)    884992    \n",
      "                                                                 \n",
      " batch_normalization_2 (Batc  (None, 6, 20, 40, 256)   1024      \n",
      " hNormalization)                                                 \n",
      "                                                                 \n",
      " activation_2 (Activation)   (None, 6, 20, 40, 256)    0         \n",
      "                                                                 \n",
      " max_pooling3d_2 (MaxPooling  (None, 3, 10, 20, 256)   0         \n",
      " 3D)                                                             \n",
      "                                                                 \n",
      " conv3d_3 (Conv3D)           (None, 3, 10, 20, 256)    1769728   \n",
      "                                                                 \n",
      " batch_normalization_3 (Batc  (None, 3, 10, 20, 256)   1024      \n",
      " hNormalization)                                                 \n",
      "                                                                 \n",
      " activation_3 (Activation)   (None, 3, 10, 20, 256)    0         \n",
      "                                                                 \n",
      " max_pooling3d_3 (MaxPooling  (None, 1, 5, 10, 256)    0         \n",
      " 3D)                                                             \n",
      "                                                                 \n",
      " flatten (Flatten)           (None, 12800)             0         \n",
      "                                                                 \n",
      " dropout (Dropout)           (None, 12800)             0         \n",
      "                                                                 \n",
      " dense (Dense)               (None, 512)               6554112   \n",
      "                                                                 \n",
      " dropout_1 (Dropout)         (None, 512)               0         \n",
      "                                                                 \n",
      " dense_1 (Dense)             (None, 5)                 2565      \n",
      "                                                                 \n",
      "=================================================================\n",
      "Total params: 9,440,773\n",
      "Trainable params: 9,439,365\n",
      "Non-trainable params: 1,408\n",
      "_________________________________________________________________\n",
      "None\n"
     ]
    },
    {
     "name": "stderr",
     "output_type": "stream",
     "text": [
      "/usr/local/lib/python3.8/dist-packages/keras/optimizer_v2/gradient_descent.py:102: UserWarning: The `lr` argument is deprecated, use `learning_rate` instead.\n",
      "  super(SGD, self).__init__(name, **kwargs)\n"
     ]
    }
   ],
   "source": [
    "optimiser =  tf.keras.optimizers.SGD(lr=0.001, decay=1e-6, momentum=0.7, nesterov=True) #write your optimizer\n",
    "model.compile(optimizer=optimiser, loss='categorical_crossentropy', metrics=['categorical_accuracy'])\n",
    "print (model.summary())"
   ]
  },
  {
   "cell_type": "markdown",
   "metadata": {},
   "source": [
    "Let us create the `train_generator` and the `val_generator` which will be used in `.fit_generator`."
   ]
  },
  {
   "cell_type": "code",
   "execution_count": 10,
   "metadata": {},
   "outputs": [],
   "source": [
    "train_generator = generator(train_path, train_doc, batch_size)\n",
    "val_generator = generator(val_path, val_doc, batch_size)"
   ]
  },
  {
   "cell_type": "code",
   "execution_count": 11,
   "metadata": {},
   "outputs": [
    {
     "name": "stdout",
     "output_type": "stream",
     "text": [
      "WARNING:tensorflow:`period` argument is deprecated. Please use `save_freq` to specify the frequency in number of batches seen.\n"
     ]
    }
   ],
   "source": [
    "model_name = 'model_init' + '_' + str(curr_dt_time).replace(' ','').replace(':','_') + '/'\n",
    "    \n",
    "if not os.path.exists(model_name):\n",
    "    os.mkdir(model_name)\n",
    "        \n",
    "filepath = model_name + 'model-{epoch:05d}-{loss:.5f}-{categorical_accuracy:.5f}-{val_loss:.5f}-{val_categorical_accuracy:.5f}.h5'\n",
    "\n",
    "checkpoint = ModelCheckpoint(filepath, monitor='val_loss', verbose=1, save_best_only=False, save_weights_only=False, mode='auto', period=1)\n",
    "\n",
    "LR = ReduceLROnPlateau(monitor='val_loss', factor=0.5, patience=2, verbose=1, mode='min', min_delta=0.0001, cooldown=0, min_lr=0.00001) # write the REducelronplateau code here\n",
    "callbacks_list = [checkpoint, LR]"
   ]
  },
  {
   "cell_type": "markdown",
   "metadata": {},
   "source": [
    "The `steps_per_epoch` and `validation_steps` are used by `fit_generator` to decide the number of next() calls it need to make."
   ]
  },
  {
   "cell_type": "code",
   "execution_count": 12,
   "metadata": {},
   "outputs": [],
   "source": [
    "if (num_train_sequences%batch_size) == 0:\n",
    "    steps_per_epoch = int(num_train_sequences/batch_size)\n",
    "else:\n",
    "    steps_per_epoch = (num_train_sequences//batch_size) + 1\n",
    "\n",
    "if (num_val_sequences%batch_size) == 0:\n",
    "    validation_steps = int(num_val_sequences/batch_size)\n",
    "else:\n",
    "    validation_steps = (num_val_sequences//batch_size) + 1"
   ]
  },
  {
   "cell_type": "markdown",
   "metadata": {},
   "source": [
    "Let us now fit the model. This will start training the model and with the help of the checkpoints, you'll be able to save the model at the end of each epoch."
   ]
  },
  {
   "cell_type": "code",
   "execution_count": 13,
   "metadata": {
    "scrolled": true
   },
   "outputs": [
    {
     "name": "stderr",
     "output_type": "stream",
     "text": [
      "/tmp/ipykernel_948/385748685.py:1: UserWarning: `Model.fit_generator` is deprecated and will be removed in a future version. Please use `Model.fit`, which supports generators.\n",
      "  model.fit_generator(train_generator, steps_per_epoch=steps_per_epoch, epochs=num_epochs, verbose=1,\n"
     ]
    },
    {
     "name": "stdout",
     "output_type": "stream",
     "text": [
      "Source path =  Project_data/train ; batch size = 32\n",
      "Epoch 1/40\n"
     ]
    },
    {
     "name": "stderr",
     "output_type": "stream",
     "text": [
      "2022-12-11 05:29:04.936180: I tensorflow/stream_executor/cuda/cuda_dnn.cc:377] Loaded cuDNN version 8302\n"
     ]
    },
    {
     "name": "stdout",
     "output_type": "stream",
     "text": [
      "21/21 [==============================] - ETA: 0s - loss: 3.0294 - categorical_accuracy: 0.2896Source path =  Project_data/val ; batch size = 32\n",
      "\n",
      "Epoch 00001: saving model to model_init_2022-12-1105_28_48.396107/model-00001-3.02936-0.28959-1.53860-0.40000.h5\n",
      "21/21 [==============================] - 64s 3s/step - loss: 3.0294 - categorical_accuracy: 0.2896 - val_loss: 1.5386 - val_categorical_accuracy: 0.4000 - lr: 0.0010\n",
      "Epoch 2/40\n",
      "21/21 [==============================] - ETA: 0s - loss: 1.7349 - categorical_accuracy: 0.4027\n",
      "Epoch 00002: saving model to model_init_2022-12-1105_28_48.396107/model-00002-1.73494-0.40271-1.51246-0.38000.h5\n",
      "21/21 [==============================] - 55s 3s/step - loss: 1.7349 - categorical_accuracy: 0.4027 - val_loss: 1.5125 - val_categorical_accuracy: 0.3800 - lr: 0.0010\n",
      "Epoch 3/40\n",
      "21/21 [==============================] - ETA: 0s - loss: 1.2563 - categorical_accuracy: 0.5279\n",
      "Epoch 00003: saving model to model_init_2022-12-1105_28_48.396107/model-00003-1.25630-0.52790-1.57853-0.26000.h5\n",
      "21/21 [==============================] - 51s 3s/step - loss: 1.2563 - categorical_accuracy: 0.5279 - val_loss: 1.5785 - val_categorical_accuracy: 0.2600 - lr: 0.0010\n",
      "Epoch 4/40\n",
      "21/21 [==============================] - ETA: 0s - loss: 0.9953 - categorical_accuracy: 0.6305\n",
      "Epoch 00004: saving model to model_init_2022-12-1105_28_48.396107/model-00004-0.99526-0.63047-1.68585-0.29000.h5\n",
      "\n",
      "Epoch 00004: ReduceLROnPlateau reducing learning rate to 0.0005000000237487257.\n",
      "21/21 [==============================] - 49s 2s/step - loss: 0.9953 - categorical_accuracy: 0.6305 - val_loss: 1.6859 - val_categorical_accuracy: 0.2900 - lr: 0.0010\n",
      "Epoch 5/40\n",
      "21/21 [==============================] - ETA: 0s - loss: 0.8634 - categorical_accuracy: 0.6682\n",
      "Epoch 00005: saving model to model_init_2022-12-1105_28_48.396107/model-00005-0.86344-0.66817-1.72755-0.30000.h5\n",
      "21/21 [==============================] - 51s 3s/step - loss: 0.8634 - categorical_accuracy: 0.6682 - val_loss: 1.7275 - val_categorical_accuracy: 0.3000 - lr: 5.0000e-04\n",
      "Epoch 6/40\n",
      "21/21 [==============================] - ETA: 0s - loss: 0.7957 - categorical_accuracy: 0.6953\n",
      "Epoch 00006: saving model to model_init_2022-12-1105_28_48.396107/model-00006-0.79574-0.69532-1.68295-0.35000.h5\n",
      "\n",
      "Epoch 00006: ReduceLROnPlateau reducing learning rate to 0.0002500000118743628.\n",
      "21/21 [==============================] - 50s 2s/step - loss: 0.7957 - categorical_accuracy: 0.6953 - val_loss: 1.6829 - val_categorical_accuracy: 0.3500 - lr: 5.0000e-04\n",
      "Epoch 7/40\n",
      "21/21 [==============================] - ETA: 0s - loss: 0.6887 - categorical_accuracy: 0.7345\n",
      "Epoch 00007: saving model to model_init_2022-12-1105_28_48.396107/model-00007-0.68872-0.73454-1.80697-0.29000.h5\n",
      "21/21 [==============================] - 51s 2s/step - loss: 0.6887 - categorical_accuracy: 0.7345 - val_loss: 1.8070 - val_categorical_accuracy: 0.2900 - lr: 2.5000e-04\n",
      "Epoch 8/40\n",
      "21/21 [==============================] - ETA: 0s - loss: 0.6463 - categorical_accuracy: 0.7526\n",
      "Epoch 00008: saving model to model_init_2022-12-1105_28_48.396107/model-00008-0.64631-0.75264-1.74749-0.33000.h5\n",
      "\n",
      "Epoch 00008: ReduceLROnPlateau reducing learning rate to 0.0001250000059371814.\n",
      "21/21 [==============================] - 49s 2s/step - loss: 0.6463 - categorical_accuracy: 0.7526 - val_loss: 1.7475 - val_categorical_accuracy: 0.3300 - lr: 2.5000e-04\n",
      "Epoch 9/40\n",
      "21/21 [==============================] - ETA: 0s - loss: 0.6525 - categorical_accuracy: 0.7662\n",
      "Epoch 00009: saving model to model_init_2022-12-1105_28_48.396107/model-00009-0.65254-0.76621-1.67974-0.35000.h5\n",
      "21/21 [==============================] - 50s 2s/step - loss: 0.6525 - categorical_accuracy: 0.7662 - val_loss: 1.6797 - val_categorical_accuracy: 0.3500 - lr: 1.2500e-04\n",
      "Epoch 10/40\n",
      "21/21 [==============================] - ETA: 0s - loss: 0.5905 - categorical_accuracy: 0.7858\n",
      "Epoch 00010: saving model to model_init_2022-12-1105_28_48.396107/model-00010-0.59047-0.78582-1.62425-0.39000.h5\n",
      "\n",
      "Epoch 00010: ReduceLROnPlateau reducing learning rate to 6.25000029685907e-05.\n",
      "21/21 [==============================] - 51s 3s/step - loss: 0.5905 - categorical_accuracy: 0.7858 - val_loss: 1.6242 - val_categorical_accuracy: 0.3900 - lr: 1.2500e-04\n",
      "Epoch 11/40\n",
      "21/21 [==============================] - ETA: 0s - loss: 0.6267 - categorical_accuracy: 0.7496\n",
      "Epoch 00011: saving model to model_init_2022-12-1105_28_48.396107/model-00011-0.62675-0.74962-1.47322-0.48000.h5\n",
      "21/21 [==============================] - 51s 3s/step - loss: 0.6267 - categorical_accuracy: 0.7496 - val_loss: 1.4732 - val_categorical_accuracy: 0.4800 - lr: 6.2500e-05\n",
      "Epoch 12/40\n",
      "21/21 [==============================] - ETA: 0s - loss: 0.6056 - categorical_accuracy: 0.7662\n",
      "Epoch 00012: saving model to model_init_2022-12-1105_28_48.396107/model-00012-0.60556-0.76621-1.27800-0.50000.h5\n",
      "21/21 [==============================] - 49s 2s/step - loss: 0.6056 - categorical_accuracy: 0.7662 - val_loss: 1.2780 - val_categorical_accuracy: 0.5000 - lr: 6.2500e-05\n",
      "Epoch 13/40\n",
      "21/21 [==============================] - ETA: 0s - loss: 0.5363 - categorical_accuracy: 0.8115\n",
      "Epoch 00013: saving model to model_init_2022-12-1105_28_48.396107/model-00013-0.53632-0.81146-1.18586-0.56000.h5\n",
      "21/21 [==============================] - 49s 2s/step - loss: 0.5363 - categorical_accuracy: 0.8115 - val_loss: 1.1859 - val_categorical_accuracy: 0.5600 - lr: 6.2500e-05\n",
      "Epoch 14/40\n",
      "21/21 [==============================] - ETA: 0s - loss: 0.5814 - categorical_accuracy: 0.7617\n",
      "Epoch 00014: saving model to model_init_2022-12-1105_28_48.396107/model-00014-0.58142-0.76169-1.02011-0.64000.h5\n",
      "21/21 [==============================] - 51s 3s/step - loss: 0.5814 - categorical_accuracy: 0.7617 - val_loss: 1.0201 - val_categorical_accuracy: 0.6400 - lr: 6.2500e-05\n",
      "Epoch 15/40\n",
      "21/21 [==============================] - ETA: 0s - loss: 0.5823 - categorical_accuracy: 0.7813\n",
      "Epoch 00015: saving model to model_init_2022-12-1105_28_48.396107/model-00015-0.58231-0.78130-1.06934-0.59000.h5\n",
      "21/21 [==============================] - 52s 3s/step - loss: 0.5823 - categorical_accuracy: 0.7813 - val_loss: 1.0693 - val_categorical_accuracy: 0.5900 - lr: 6.2500e-05\n",
      "Epoch 16/40\n",
      "21/21 [==============================] - ETA: 0s - loss: 0.5690 - categorical_accuracy: 0.7858\n",
      "Epoch 00016: saving model to model_init_2022-12-1105_28_48.396107/model-00016-0.56900-0.78582-0.91572-0.66000.h5\n",
      "21/21 [==============================] - 48s 2s/step - loss: 0.5690 - categorical_accuracy: 0.7858 - val_loss: 0.9157 - val_categorical_accuracy: 0.6600 - lr: 6.2500e-05\n",
      "Epoch 17/40\n",
      "21/21 [==============================] - ETA: 0s - loss: 0.5644 - categorical_accuracy: 0.7903\n",
      "Epoch 00017: saving model to model_init_2022-12-1105_28_48.396107/model-00017-0.56441-0.79035-0.83525-0.65000.h5\n",
      "21/21 [==============================] - 50s 2s/step - loss: 0.5644 - categorical_accuracy: 0.7903 - val_loss: 0.8352 - val_categorical_accuracy: 0.6500 - lr: 6.2500e-05\n",
      "Epoch 18/40\n",
      "21/21 [==============================] - ETA: 0s - loss: 0.5880 - categorical_accuracy: 0.7828\n",
      "Epoch 00018: saving model to model_init_2022-12-1105_28_48.396107/model-00018-0.58799-0.78281-0.80480-0.68000.h5\n",
      "21/21 [==============================] - 50s 2s/step - loss: 0.5880 - categorical_accuracy: 0.7828 - val_loss: 0.8048 - val_categorical_accuracy: 0.6800 - lr: 6.2500e-05\n",
      "Epoch 19/40\n",
      "21/21 [==============================] - ETA: 0s - loss: 0.5312 - categorical_accuracy: 0.7994\n",
      "Epoch 00019: saving model to model_init_2022-12-1105_28_48.396107/model-00019-0.53120-0.79940-0.69900-0.75000.h5\n",
      "21/21 [==============================] - 51s 3s/step - loss: 0.5312 - categorical_accuracy: 0.7994 - val_loss: 0.6990 - val_categorical_accuracy: 0.7500 - lr: 6.2500e-05\n",
      "Epoch 20/40\n",
      "21/21 [==============================] - ETA: 0s - loss: 0.5239 - categorical_accuracy: 0.8084\n",
      "Epoch 00020: saving model to model_init_2022-12-1105_28_48.396107/model-00020-0.52394-0.80845-0.68101-0.75000.h5\n",
      "21/21 [==============================] - 49s 2s/step - loss: 0.5239 - categorical_accuracy: 0.8084 - val_loss: 0.6810 - val_categorical_accuracy: 0.7500 - lr: 6.2500e-05\n",
      "Epoch 21/40\n",
      "21/21 [==============================] - ETA: 0s - loss: 0.5290 - categorical_accuracy: 0.7903\n",
      "Epoch 00021: saving model to model_init_2022-12-1105_28_48.396107/model-00021-0.52895-0.79035-0.66998-0.78000.h5\n",
      "21/21 [==============================] - 52s 3s/step - loss: 0.5290 - categorical_accuracy: 0.7903 - val_loss: 0.6700 - val_categorical_accuracy: 0.7800 - lr: 6.2500e-05\n",
      "Epoch 22/40\n",
      "21/21 [==============================] - ETA: 0s - loss: 0.5695 - categorical_accuracy: 0.7738\n",
      "Epoch 00022: saving model to model_init_2022-12-1105_28_48.396107/model-00022-0.56952-0.77376-0.64920-0.77000.h5\n",
      "21/21 [==============================] - 51s 3s/step - loss: 0.5695 - categorical_accuracy: 0.7738 - val_loss: 0.6492 - val_categorical_accuracy: 0.7700 - lr: 6.2500e-05\n",
      "Epoch 23/40\n",
      "21/21 [==============================] - ETA: 0s - loss: 0.5322 - categorical_accuracy: 0.7994\n",
      "Epoch 00023: saving model to model_init_2022-12-1105_28_48.396107/model-00023-0.53220-0.79940-0.58057-0.82000.h5\n",
      "21/21 [==============================] - 51s 3s/step - loss: 0.5322 - categorical_accuracy: 0.7994 - val_loss: 0.5806 - val_categorical_accuracy: 0.8200 - lr: 6.2500e-05\n",
      "Epoch 24/40\n",
      "21/21 [==============================] - ETA: 0s - loss: 0.4955 - categorical_accuracy: 0.8084\n",
      "Epoch 00024: saving model to model_init_2022-12-1105_28_48.396107/model-00024-0.49548-0.80845-0.62254-0.82000.h5\n",
      "21/21 [==============================] - 49s 2s/step - loss: 0.4955 - categorical_accuracy: 0.8084 - val_loss: 0.6225 - val_categorical_accuracy: 0.8200 - lr: 6.2500e-05\n",
      "Epoch 25/40\n",
      "21/21 [==============================] - ETA: 0s - loss: 0.4836 - categorical_accuracy: 0.8356\n",
      "Epoch 00025: saving model to model_init_2022-12-1105_28_48.396107/model-00025-0.48358-0.83560-0.61400-0.82000.h5\n",
      "\n",
      "Epoch 00025: ReduceLROnPlateau reducing learning rate to 3.125000148429535e-05.\n",
      "21/21 [==============================] - 50s 2s/step - loss: 0.4836 - categorical_accuracy: 0.8356 - val_loss: 0.6140 - val_categorical_accuracy: 0.8200 - lr: 6.2500e-05\n",
      "Epoch 26/40\n",
      "21/21 [==============================] - ETA: 0s - loss: 0.5486 - categorical_accuracy: 0.7964\n",
      "Epoch 00026: saving model to model_init_2022-12-1105_28_48.396107/model-00026-0.54861-0.79638-0.64091-0.82000.h5\n",
      "21/21 [==============================] - 50s 2s/step - loss: 0.5486 - categorical_accuracy: 0.7964 - val_loss: 0.6409 - val_categorical_accuracy: 0.8200 - lr: 3.1250e-05\n",
      "Epoch 27/40\n",
      "21/21 [==============================] - ETA: 0s - loss: 0.5244 - categorical_accuracy: 0.8054\n",
      "Epoch 00027: saving model to model_init_2022-12-1105_28_48.396107/model-00027-0.52443-0.80543-0.55305-0.86000.h5\n",
      "21/21 [==============================] - 50s 2s/step - loss: 0.5244 - categorical_accuracy: 0.8054 - val_loss: 0.5531 - val_categorical_accuracy: 0.8600 - lr: 3.1250e-05\n",
      "Epoch 28/40\n",
      "21/21 [==============================] - ETA: 0s - loss: 0.4954 - categorical_accuracy: 0.8175\n",
      "Epoch 00028: saving model to model_init_2022-12-1105_28_48.396107/model-00028-0.49539-0.81750-0.59409-0.82000.h5\n",
      "21/21 [==============================] - 48s 2s/step - loss: 0.4954 - categorical_accuracy: 0.8175 - val_loss: 0.5941 - val_categorical_accuracy: 0.8200 - lr: 3.1250e-05\n",
      "Epoch 29/40\n",
      "21/21 [==============================] - ETA: 0s - loss: 0.4906 - categorical_accuracy: 0.8115\n",
      "Epoch 00029: saving model to model_init_2022-12-1105_28_48.396107/model-00029-0.49063-0.81146-0.58691-0.84000.h5\n",
      "\n",
      "Epoch 00029: ReduceLROnPlateau reducing learning rate to 1.5625000742147677e-05.\n",
      "21/21 [==============================] - 50s 2s/step - loss: 0.4906 - categorical_accuracy: 0.8115 - val_loss: 0.5869 - val_categorical_accuracy: 0.8400 - lr: 3.1250e-05\n",
      "Epoch 30/40\n",
      "21/21 [==============================] - ETA: 0s - loss: 0.5064 - categorical_accuracy: 0.8039\n",
      "Epoch 00030: saving model to model_init_2022-12-1105_28_48.396107/model-00030-0.50639-0.80392-0.40212-0.94000.h5\n",
      "21/21 [==============================] - 51s 3s/step - loss: 0.5064 - categorical_accuracy: 0.8039 - val_loss: 0.4021 - val_categorical_accuracy: 0.9400 - lr: 1.5625e-05\n",
      "Epoch 31/40\n",
      "21/21 [==============================] - ETA: 0s - loss: 0.5028 - categorical_accuracy: 0.8341\n",
      "Epoch 00031: saving model to model_init_2022-12-1105_28_48.396107/model-00031-0.50279-0.83409-0.66577-0.80000.h5\n",
      "21/21 [==============================] - 51s 3s/step - loss: 0.5028 - categorical_accuracy: 0.8341 - val_loss: 0.6658 - val_categorical_accuracy: 0.8000 - lr: 1.5625e-05\n",
      "Epoch 32/40\n",
      "21/21 [==============================] - ETA: 0s - loss: 0.5043 - categorical_accuracy: 0.8100\n",
      "Epoch 00032: saving model to model_init_2022-12-1105_28_48.396107/model-00032-0.50429-0.80995-0.55586-0.85000.h5\n",
      "\n",
      "Epoch 00032: ReduceLROnPlateau reducing learning rate to 1e-05.\n",
      "21/21 [==============================] - 49s 2s/step - loss: 0.5043 - categorical_accuracy: 0.8100 - val_loss: 0.5559 - val_categorical_accuracy: 0.8500 - lr: 1.5625e-05\n",
      "Epoch 33/40\n",
      "21/21 [==============================] - ETA: 0s - loss: 0.4592 - categorical_accuracy: 0.8220\n",
      "Epoch 00033: saving model to model_init_2022-12-1105_28_48.396107/model-00033-0.45917-0.82202-0.57420-0.84000.h5\n",
      "21/21 [==============================] - 50s 2s/step - loss: 0.4592 - categorical_accuracy: 0.8220 - val_loss: 0.5742 - val_categorical_accuracy: 0.8400 - lr: 1.0000e-05\n",
      "Epoch 34/40\n",
      "21/21 [==============================] - ETA: 0s - loss: 0.4917 - categorical_accuracy: 0.7994\n",
      "Epoch 00034: saving model to model_init_2022-12-1105_28_48.396107/model-00034-0.49172-0.79940-0.56765-0.84000.h5\n",
      "21/21 [==============================] - 51s 3s/step - loss: 0.4917 - categorical_accuracy: 0.7994 - val_loss: 0.5677 - val_categorical_accuracy: 0.8400 - lr: 1.0000e-05\n",
      "Epoch 35/40\n",
      "21/21 [==============================] - ETA: 0s - loss: 0.4538 - categorical_accuracy: 0.8341\n",
      "Epoch 00035: saving model to model_init_2022-12-1105_28_48.396107/model-00035-0.45380-0.83409-0.47012-0.88000.h5\n",
      "21/21 [==============================] - 51s 3s/step - loss: 0.4538 - categorical_accuracy: 0.8341 - val_loss: 0.4701 - val_categorical_accuracy: 0.8800 - lr: 1.0000e-05\n",
      "Epoch 36/40\n",
      "21/21 [==============================] - ETA: 0s - loss: 0.4541 - categorical_accuracy: 0.8341\n",
      "Epoch 00036: saving model to model_init_2022-12-1105_28_48.396107/model-00036-0.45413-0.83409-0.59295-0.82000.h5\n",
      "21/21 [==============================] - 49s 2s/step - loss: 0.4541 - categorical_accuracy: 0.8341 - val_loss: 0.5930 - val_categorical_accuracy: 0.8200 - lr: 1.0000e-05\n",
      "Epoch 37/40\n",
      "21/21 [==============================] - ETA: 0s - loss: 0.4596 - categorical_accuracy: 0.8311\n",
      "Epoch 00037: saving model to model_init_2022-12-1105_28_48.396107/model-00037-0.45960-0.83107-0.56841-0.84000.h5\n",
      "21/21 [==============================] - 50s 2s/step - loss: 0.4596 - categorical_accuracy: 0.8311 - val_loss: 0.5684 - val_categorical_accuracy: 0.8400 - lr: 1.0000e-05\n",
      "Epoch 38/40\n",
      "21/21 [==============================] - ETA: 0s - loss: 0.4884 - categorical_accuracy: 0.8115\n",
      "Epoch 00038: saving model to model_init_2022-12-1105_28_48.396107/model-00038-0.48839-0.81146-0.58026-0.84000.h5\n",
      "21/21 [==============================] - 51s 3s/step - loss: 0.4884 - categorical_accuracy: 0.8115 - val_loss: 0.5803 - val_categorical_accuracy: 0.8400 - lr: 1.0000e-05\n",
      "Epoch 39/40\n",
      "21/21 [==============================] - ETA: 0s - loss: 0.4895 - categorical_accuracy: 0.8069\n",
      "Epoch 00039: saving model to model_init_2022-12-1105_28_48.396107/model-00039-0.48947-0.80694-0.56717-0.85000.h5\n",
      "21/21 [==============================] - 50s 2s/step - loss: 0.4895 - categorical_accuracy: 0.8069 - val_loss: 0.5672 - val_categorical_accuracy: 0.8500 - lr: 1.0000e-05\n",
      "Epoch 40/40\n",
      "21/21 [==============================] - ETA: 0s - loss: 0.4860 - categorical_accuracy: 0.8145\n",
      "Epoch 00040: saving model to model_init_2022-12-1105_28_48.396107/model-00040-0.48601-0.81448-0.54331-0.85000.h5\n",
      "21/21 [==============================] - 48s 2s/step - loss: 0.4860 - categorical_accuracy: 0.8145 - val_loss: 0.5433 - val_categorical_accuracy: 0.8500 - lr: 1.0000e-05\n"
     ]
    },
    {
     "data": {
      "text/plain": [
       "<keras.callbacks.History at 0x7fab95d5d9a0>"
      ]
     },
     "execution_count": 13,
     "metadata": {},
     "output_type": "execute_result"
    }
   ],
   "source": [
    "model.fit_generator(train_generator, steps_per_epoch=steps_per_epoch, epochs=num_epochs, verbose=1, \n",
    "                    callbacks=callbacks_list, validation_data=val_generator, \n",
    "                    validation_steps=validation_steps, class_weight=None, workers=1, initial_epoch=0)"
   ]
  },
  {
   "cell_type": "markdown",
   "metadata": {},
   "source": [
    "### Observations:"
   ]
  },
  {
   "cell_type": "markdown",
   "metadata": {},
   "source": [
    "- As we can see from above model that it is overfitting. We have got categorical_accuracy: 0.8145 and val_categorical_accuracy: 0.8500.\n",
    "- Currently we are using 25 frames with size 80*80 and 3 channels as an input.\n",
    "- 4 convolutional layer followed by batch normalization, maxpooling.\n",
    "- Later it is flattened follwoed by dropout and fed into Dense layer with 5 classification output.\n",
    "- This model is giving good accuracy. Though it has trainanble parameters as 9.5 million which is good for webcam hosting as well."
   ]
  },
  {
   "cell_type": "markdown",
   "metadata": {},
   "source": [
    "### Lets add dropout after third CONVO 3D layer to reduce overfit and see if our accuracy is still good."
   ]
  },
  {
   "cell_type": "markdown",
   "metadata": {},
   "source": [
    "### Model 2: CONVO 3D"
   ]
  },
  {
   "cell_type": "code",
   "execution_count": 14,
   "metadata": {},
   "outputs": [],
   "source": [
    "from keras.models import Sequential, Model\n",
    "from keras.layers import Dense, GRU, Flatten, TimeDistributed, Flatten, BatchNormalization, Activation,Dropout\n",
    "from keras.layers.convolutional import Conv3D, MaxPooling3D\n",
    "from keras.callbacks import ModelCheckpoint, ReduceLROnPlateau\n",
    "from keras import optimizers\n",
    "\n",
    "#write your model here\n",
    "model = Sequential()\n",
    "model.add(Conv3D(64, (3,3,3), strides=(1,1,1), padding='same', input_shape=(25,80,80,3)))\n",
    "model.add(BatchNormalization())\n",
    "model.add(Activation('relu'))\n",
    "model.add(MaxPooling3D(pool_size=(2,2,1), strides=(2,2,1)))\n",
    "#model.add(Dropout(0.25))\n",
    "\n",
    "model.add(Conv3D(128, (3,3,3), strides=(1,1,1), padding='same'))\n",
    "model.add(BatchNormalization())\n",
    "model.add(Activation('relu'))\n",
    "model.add(MaxPooling3D(pool_size=(2,2,2), strides=(2,2,2)))\n",
    "#model.add(Dropout(0.25))\n",
    "\n",
    "model.add(Conv3D(256, (3,3,3), strides=(1,1,1), padding='same'))\n",
    "model.add(BatchNormalization())\n",
    "model.add(Activation('relu'))\n",
    "model.add(MaxPooling3D(pool_size=(2,2,2), strides=(2,2,2)))\n",
    "model.add(Dropout(0.25))\n",
    "\n",
    "model.add(Conv3D(256, (3,3,3), strides=(1,1,1), padding='same'))\n",
    "model.add(BatchNormalization())\n",
    "model.add(Activation('relu'))\n",
    "model.add(MaxPooling3D(pool_size=(2,2,2), strides=(2,2,2)))\n",
    "\n",
    "model.add(Flatten())\n",
    "model.add(Dropout(0.5))\n",
    "model.add(Dense(512, activation='relu'))\n",
    "model.add(Dropout(0.5))\n",
    "model.add(Dense(5, activation='softmax'))"
   ]
  },
  {
   "cell_type": "code",
   "execution_count": 15,
   "metadata": {},
   "outputs": [
    {
     "name": "stdout",
     "output_type": "stream",
     "text": [
      "Model: \"sequential_1\"\n",
      "_________________________________________________________________\n",
      " Layer (type)                Output Shape              Param #   \n",
      "=================================================================\n",
      " conv3d_4 (Conv3D)           (None, 25, 80, 80, 64)    5248      \n",
      "                                                                 \n",
      " batch_normalization_4 (Batc  (None, 25, 80, 80, 64)   256       \n",
      " hNormalization)                                                 \n",
      "                                                                 \n",
      " activation_4 (Activation)   (None, 25, 80, 80, 64)    0         \n",
      "                                                                 \n",
      " max_pooling3d_4 (MaxPooling  (None, 12, 40, 80, 64)   0         \n",
      " 3D)                                                             \n",
      "                                                                 \n",
      " conv3d_5 (Conv3D)           (None, 12, 40, 80, 128)   221312    \n",
      "                                                                 \n",
      " batch_normalization_5 (Batc  (None, 12, 40, 80, 128)  512       \n",
      " hNormalization)                                                 \n",
      "                                                                 \n",
      " activation_5 (Activation)   (None, 12, 40, 80, 128)   0         \n",
      "                                                                 \n",
      " max_pooling3d_5 (MaxPooling  (None, 6, 20, 40, 128)   0         \n",
      " 3D)                                                             \n",
      "                                                                 \n",
      " conv3d_6 (Conv3D)           (None, 6, 20, 40, 256)    884992    \n",
      "                                                                 \n",
      " batch_normalization_6 (Batc  (None, 6, 20, 40, 256)   1024      \n",
      " hNormalization)                                                 \n",
      "                                                                 \n",
      " activation_6 (Activation)   (None, 6, 20, 40, 256)    0         \n",
      "                                                                 \n",
      " max_pooling3d_6 (MaxPooling  (None, 3, 10, 20, 256)   0         \n",
      " 3D)                                                             \n",
      "                                                                 \n",
      " dropout_2 (Dropout)         (None, 3, 10, 20, 256)    0         \n",
      "                                                                 \n",
      " conv3d_7 (Conv3D)           (None, 3, 10, 20, 256)    1769728   \n",
      "                                                                 \n",
      " batch_normalization_7 (Batc  (None, 3, 10, 20, 256)   1024      \n",
      " hNormalization)                                                 \n",
      "                                                                 \n",
      " activation_7 (Activation)   (None, 3, 10, 20, 256)    0         \n",
      "                                                                 \n",
      " max_pooling3d_7 (MaxPooling  (None, 1, 5, 10, 256)    0         \n",
      " 3D)                                                             \n",
      "                                                                 \n",
      " flatten_1 (Flatten)         (None, 12800)             0         \n",
      "                                                                 \n",
      " dropout_3 (Dropout)         (None, 12800)             0         \n",
      "                                                                 \n",
      " dense_2 (Dense)             (None, 512)               6554112   \n",
      "                                                                 \n",
      " dropout_4 (Dropout)         (None, 512)               0         \n",
      "                                                                 \n",
      " dense_3 (Dense)             (None, 5)                 2565      \n",
      "                                                                 \n",
      "=================================================================\n",
      "Total params: 9,440,773\n",
      "Trainable params: 9,439,365\n",
      "Non-trainable params: 1,408\n",
      "_________________________________________________________________\n",
      "None\n"
     ]
    }
   ],
   "source": [
    "optimiser =  tf.keras.optimizers.SGD(lr=0.001, decay=1e-6, momentum=0.7, nesterov=True) #write your optimizer\n",
    "model.compile(optimizer=optimiser, loss='categorical_crossentropy', metrics=['categorical_accuracy'])\n",
    "print (model.summary())"
   ]
  },
  {
   "cell_type": "code",
   "execution_count": 16,
   "metadata": {},
   "outputs": [
    {
     "name": "stdout",
     "output_type": "stream",
     "text": [
      "WARNING:tensorflow:`period` argument is deprecated. Please use `save_freq` to specify the frequency in number of batches seen.\n"
     ]
    }
   ],
   "source": [
    "train_generator = generator(train_path, train_doc, batch_size)\n",
    "val_generator = generator(val_path, val_doc, batch_size)\n",
    "model_name = 'model_init' + '_' + str(curr_dt_time).replace(' ','').replace(':','_') + '/'\n",
    "    \n",
    "if not os.path.exists(model_name):\n",
    "    os.mkdir(model_name)\n",
    "        \n",
    "filepath = model_name + 'model-{epoch:05d}-{loss:.5f}-{categorical_accuracy:.5f}-{val_loss:.5f}-{val_categorical_accuracy:.5f}.h5'\n",
    "\n",
    "checkpoint = ModelCheckpoint(filepath, monitor='val_loss', verbose=1, save_best_only=False, save_weights_only=False, mode='auto', period=1)\n",
    "\n",
    "LR = ReduceLROnPlateau(monitor='val_loss', factor=0.5, patience=2, verbose=1, mode='min', min_delta=0.0001, cooldown=0, min_lr=0.00001) # write the REducelronplateau code here\n",
    "callbacks_list = [checkpoint, LR]"
   ]
  },
  {
   "cell_type": "code",
   "execution_count": 17,
   "metadata": {},
   "outputs": [
    {
     "name": "stderr",
     "output_type": "stream",
     "text": [
      "/tmp/ipykernel_948/4010122893.py:11: UserWarning: `Model.fit_generator` is deprecated and will be removed in a future version. Please use `Model.fit`, which supports generators.\n",
      "  model.fit_generator(train_generator, steps_per_epoch=steps_per_epoch, epochs=num_epochs, verbose=1,\n"
     ]
    },
    {
     "name": "stdout",
     "output_type": "stream",
     "text": [
      "Source path =  Project_data/train ; batch size = 32\n",
      "Epoch 1/40\n",
      "21/21 [==============================] - ETA: 0s - loss: 3.3251 - categorical_accuracy: 0.2655Source path =  Project_data/val ; batch size = 32\n",
      "\n",
      "Epoch 00001: saving model to model_init_2022-12-1105_28_48.396107/model-00001-3.32514-0.26546-1.53073-0.45000.h5\n",
      "21/21 [==============================] - 51s 2s/step - loss: 3.3251 - categorical_accuracy: 0.2655 - val_loss: 1.5307 - val_categorical_accuracy: 0.4500 - lr: 0.0010\n",
      "Epoch 2/40\n",
      "21/21 [==============================] - ETA: 0s - loss: 1.7886 - categorical_accuracy: 0.3363\n",
      "Epoch 00002: saving model to model_init_2022-12-1105_28_48.396107/model-00002-1.78863-0.33635-1.54580-0.47000.h5\n",
      "21/21 [==============================] - 51s 3s/step - loss: 1.7886 - categorical_accuracy: 0.3363 - val_loss: 1.5458 - val_categorical_accuracy: 0.4700 - lr: 0.0010\n",
      "Epoch 3/40\n",
      "21/21 [==============================] - ETA: 0s - loss: 1.4413 - categorical_accuracy: 0.4419\n",
      "Epoch 00003: saving model to model_init_2022-12-1105_28_48.396107/model-00003-1.44134-0.44193-1.55819-0.23000.h5\n",
      "\n",
      "Epoch 00003: ReduceLROnPlateau reducing learning rate to 0.0005000000237487257.\n",
      "21/21 [==============================] - 50s 2s/step - loss: 1.4413 - categorical_accuracy: 0.4419 - val_loss: 1.5582 - val_categorical_accuracy: 0.2300 - lr: 0.0010\n",
      "Epoch 4/40\n",
      "21/21 [==============================] - ETA: 0s - loss: 1.2551 - categorical_accuracy: 0.5023\n",
      "Epoch 00004: saving model to model_init_2022-12-1105_28_48.396107/model-00004-1.25512-0.50226-1.57655-0.29000.h5\n",
      "21/21 [==============================] - 48s 2s/step - loss: 1.2551 - categorical_accuracy: 0.5023 - val_loss: 1.5765 - val_categorical_accuracy: 0.2900 - lr: 5.0000e-04\n",
      "Epoch 5/40\n",
      "21/21 [==============================] - ETA: 0s - loss: 1.1182 - categorical_accuracy: 0.5415\n",
      "Epoch 00005: saving model to model_init_2022-12-1105_28_48.396107/model-00005-1.11819-0.54148-1.57662-0.28000.h5\n",
      "\n",
      "Epoch 00005: ReduceLROnPlateau reducing learning rate to 0.0002500000118743628.\n",
      "21/21 [==============================] - 50s 2s/step - loss: 1.1182 - categorical_accuracy: 0.5415 - val_loss: 1.5766 - val_categorical_accuracy: 0.2800 - lr: 5.0000e-04\n",
      "Epoch 6/40\n",
      "21/21 [==============================] - ETA: 0s - loss: 1.1148 - categorical_accuracy: 0.5460\n",
      "Epoch 00006: saving model to model_init_2022-12-1105_28_48.396107/model-00006-1.11485-0.54600-1.51874-0.36000.h5\n",
      "21/21 [==============================] - 50s 2s/step - loss: 1.1148 - categorical_accuracy: 0.5460 - val_loss: 1.5187 - val_categorical_accuracy: 0.3600 - lr: 2.5000e-04\n",
      "Epoch 7/40\n",
      "21/21 [==============================] - ETA: 0s - loss: 1.0490 - categorical_accuracy: 0.5777\n",
      "Epoch 00007: saving model to model_init_2022-12-1105_28_48.396107/model-00007-1.04895-0.57768-1.59915-0.36000.h5\n",
      "21/21 [==============================] - 51s 2s/step - loss: 1.0490 - categorical_accuracy: 0.5777 - val_loss: 1.5992 - val_categorical_accuracy: 0.3600 - lr: 2.5000e-04\n",
      "Epoch 8/40\n",
      "21/21 [==============================] - ETA: 0s - loss: 1.0304 - categorical_accuracy: 0.5913\n",
      "Epoch 00008: saving model to model_init_2022-12-1105_28_48.396107/model-00008-1.03036-0.59125-1.56857-0.39000.h5\n",
      "\n",
      "Epoch 00008: ReduceLROnPlateau reducing learning rate to 0.0001250000059371814.\n",
      "21/21 [==============================] - 48s 2s/step - loss: 1.0304 - categorical_accuracy: 0.5913 - val_loss: 1.5686 - val_categorical_accuracy: 0.3900 - lr: 2.5000e-04\n",
      "Epoch 9/40\n",
      "21/21 [==============================] - ETA: 0s - loss: 0.9842 - categorical_accuracy: 0.6048\n",
      "Epoch 00009: saving model to model_init_2022-12-1105_28_48.396107/model-00009-0.98415-0.60483-1.52525-0.40000.h5\n",
      "21/21 [==============================] - 50s 2s/step - loss: 0.9842 - categorical_accuracy: 0.6048 - val_loss: 1.5253 - val_categorical_accuracy: 0.4000 - lr: 1.2500e-04\n",
      "Epoch 10/40\n",
      "21/21 [==============================] - ETA: 0s - loss: 0.9613 - categorical_accuracy: 0.6320\n",
      "Epoch 00010: saving model to model_init_2022-12-1105_28_48.396107/model-00010-0.96133-0.63198-1.44600-0.42000.h5\n",
      "21/21 [==============================] - 50s 2s/step - loss: 0.9613 - categorical_accuracy: 0.6320 - val_loss: 1.4460 - val_categorical_accuracy: 0.4200 - lr: 1.2500e-04\n",
      "Epoch 11/40\n",
      "21/21 [==============================] - ETA: 0s - loss: 0.9565 - categorical_accuracy: 0.6244\n",
      "Epoch 00011: saving model to model_init_2022-12-1105_28_48.396107/model-00011-0.95648-0.62443-1.45437-0.48000.h5\n",
      "21/21 [==============================] - 50s 2s/step - loss: 0.9565 - categorical_accuracy: 0.6244 - val_loss: 1.4544 - val_categorical_accuracy: 0.4800 - lr: 1.2500e-04\n",
      "Epoch 12/40\n",
      "21/21 [==============================] - ETA: 0s - loss: 0.9294 - categorical_accuracy: 0.6380\n",
      "Epoch 00012: saving model to model_init_2022-12-1105_28_48.396107/model-00012-0.92942-0.63801-1.29849-0.51000.h5\n",
      "21/21 [==============================] - 48s 2s/step - loss: 0.9294 - categorical_accuracy: 0.6380 - val_loss: 1.2985 - val_categorical_accuracy: 0.5100 - lr: 1.2500e-04\n",
      "Epoch 13/40\n",
      "21/21 [==============================] - ETA: 0s - loss: 0.9464 - categorical_accuracy: 0.6395\n",
      "Epoch 00013: saving model to model_init_2022-12-1105_28_48.396107/model-00013-0.94639-0.63952-1.24379-0.51000.h5\n",
      "21/21 [==============================] - 50s 2s/step - loss: 0.9464 - categorical_accuracy: 0.6395 - val_loss: 1.2438 - val_categorical_accuracy: 0.5100 - lr: 1.2500e-04\n",
      "Epoch 14/40\n",
      "21/21 [==============================] - ETA: 0s - loss: 0.8985 - categorical_accuracy: 0.6320\n",
      "Epoch 00014: saving model to model_init_2022-12-1105_28_48.396107/model-00014-0.89847-0.63198-1.21163-0.51000.h5\n",
      "21/21 [==============================] - 51s 2s/step - loss: 0.8985 - categorical_accuracy: 0.6320 - val_loss: 1.2116 - val_categorical_accuracy: 0.5100 - lr: 1.2500e-04\n",
      "Epoch 15/40\n",
      "21/21 [==============================] - ETA: 0s - loss: 0.8658 - categorical_accuracy: 0.6652\n",
      "Epoch 00015: saving model to model_init_2022-12-1105_28_48.396107/model-00015-0.86584-0.66516-1.09392-0.62000.h5\n",
      "21/21 [==============================] - 50s 2s/step - loss: 0.8658 - categorical_accuracy: 0.6652 - val_loss: 1.0939 - val_categorical_accuracy: 0.6200 - lr: 1.2500e-04\n",
      "Epoch 16/40\n",
      "21/21 [==============================] - ETA: 0s - loss: 0.8847 - categorical_accuracy: 0.6425\n",
      "Epoch 00016: saving model to model_init_2022-12-1105_28_48.396107/model-00016-0.88469-0.64253-1.04211-0.65000.h5\n",
      "21/21 [==============================] - 49s 2s/step - loss: 0.8847 - categorical_accuracy: 0.6425 - val_loss: 1.0421 - val_categorical_accuracy: 0.6500 - lr: 1.2500e-04\n",
      "Epoch 17/40\n",
      "21/21 [==============================] - ETA: 0s - loss: 0.8586 - categorical_accuracy: 0.6682\n",
      "Epoch 00017: saving model to model_init_2022-12-1105_28_48.396107/model-00017-0.85864-0.66817-0.98756-0.65000.h5\n",
      "21/21 [==============================] - 50s 2s/step - loss: 0.8586 - categorical_accuracy: 0.6682 - val_loss: 0.9876 - val_categorical_accuracy: 0.6500 - lr: 1.2500e-04\n",
      "Epoch 18/40\n",
      "21/21 [==============================] - ETA: 0s - loss: 0.8817 - categorical_accuracy: 0.6546\n",
      "Epoch 00018: saving model to model_init_2022-12-1105_28_48.396107/model-00018-0.88173-0.65460-0.94740-0.75000.h5\n",
      "21/21 [==============================] - 50s 2s/step - loss: 0.8817 - categorical_accuracy: 0.6546 - val_loss: 0.9474 - val_categorical_accuracy: 0.7500 - lr: 1.2500e-04\n",
      "Epoch 19/40\n",
      "21/21 [==============================] - ETA: 0s - loss: 0.8556 - categorical_accuracy: 0.6606\n",
      "Epoch 00019: saving model to model_init_2022-12-1105_28_48.396107/model-00019-0.85561-0.66063-0.91973-0.69000.h5\n",
      "21/21 [==============================] - 50s 2s/step - loss: 0.8556 - categorical_accuracy: 0.6606 - val_loss: 0.9197 - val_categorical_accuracy: 0.6900 - lr: 1.2500e-04\n",
      "Epoch 20/40\n",
      "21/21 [==============================] - ETA: 0s - loss: 0.8210 - categorical_accuracy: 0.6817\n",
      "Epoch 00020: saving model to model_init_2022-12-1105_28_48.396107/model-00020-0.82096-0.68175-0.88389-0.71000.h5\n",
      "21/21 [==============================] - 48s 2s/step - loss: 0.8210 - categorical_accuracy: 0.6817 - val_loss: 0.8839 - val_categorical_accuracy: 0.7100 - lr: 1.2500e-04\n",
      "Epoch 21/40\n",
      "21/21 [==============================] - ETA: 0s - loss: 0.8428 - categorical_accuracy: 0.6591\n",
      "Epoch 00021: saving model to model_init_2022-12-1105_28_48.396107/model-00021-0.84280-0.65913-0.85211-0.72000.h5\n",
      "21/21 [==============================] - 51s 3s/step - loss: 0.8428 - categorical_accuracy: 0.6591 - val_loss: 0.8521 - val_categorical_accuracy: 0.7200 - lr: 1.2500e-04\n",
      "Epoch 22/40\n",
      "21/21 [==============================] - ETA: 0s - loss: 0.7971 - categorical_accuracy: 0.6802\n",
      "Epoch 00022: saving model to model_init_2022-12-1105_28_48.396107/model-00022-0.79711-0.68024-0.87406-0.69000.h5\n",
      "21/21 [==============================] - 50s 2s/step - loss: 0.7971 - categorical_accuracy: 0.6802 - val_loss: 0.8741 - val_categorical_accuracy: 0.6900 - lr: 1.2500e-04\n",
      "Epoch 23/40\n",
      "21/21 [==============================] - ETA: 0s - loss: 0.7904 - categorical_accuracy: 0.6953\n",
      "Epoch 00023: saving model to model_init_2022-12-1105_28_48.396107/model-00023-0.79044-0.69532-0.77520-0.76000.h5\n",
      "21/21 [==============================] - 50s 2s/step - loss: 0.7904 - categorical_accuracy: 0.6953 - val_loss: 0.7752 - val_categorical_accuracy: 0.7600 - lr: 1.2500e-04\n",
      "Epoch 24/40\n",
      "21/21 [==============================] - ETA: 0s - loss: 0.7738 - categorical_accuracy: 0.7029\n",
      "Epoch 00024: saving model to model_init_2022-12-1105_28_48.396107/model-00024-0.77375-0.70287-0.80192-0.74000.h5\n",
      "21/21 [==============================] - 49s 2s/step - loss: 0.7738 - categorical_accuracy: 0.7029 - val_loss: 0.8019 - val_categorical_accuracy: 0.7400 - lr: 1.2500e-04\n",
      "Epoch 25/40\n",
      "21/21 [==============================] - ETA: 0s - loss: 0.7925 - categorical_accuracy: 0.6742\n",
      "Epoch 00025: saving model to model_init_2022-12-1105_28_48.396107/model-00025-0.79251-0.67421-0.77316-0.74000.h5\n",
      "21/21 [==============================] - 50s 2s/step - loss: 0.7925 - categorical_accuracy: 0.6742 - val_loss: 0.7732 - val_categorical_accuracy: 0.7400 - lr: 1.2500e-04\n",
      "Epoch 26/40\n",
      "21/21 [==============================] - ETA: 0s - loss: 0.7798 - categorical_accuracy: 0.6817\n",
      "Epoch 00026: saving model to model_init_2022-12-1105_28_48.396107/model-00026-0.77978-0.68175-0.82845-0.71000.h5\n",
      "21/21 [==============================] - 50s 2s/step - loss: 0.7798 - categorical_accuracy: 0.6817 - val_loss: 0.8284 - val_categorical_accuracy: 0.7100 - lr: 1.2500e-04\n",
      "Epoch 27/40\n",
      "21/21 [==============================] - ETA: 0s - loss: 0.7635 - categorical_accuracy: 0.7315\n",
      "Epoch 00027: saving model to model_init_2022-12-1105_28_48.396107/model-00027-0.76349-0.73152-0.80089-0.71000.h5\n",
      "\n",
      "Epoch 00027: ReduceLROnPlateau reducing learning rate to 6.25000029685907e-05.\n",
      "21/21 [==============================] - 50s 2s/step - loss: 0.7635 - categorical_accuracy: 0.7315 - val_loss: 0.8009 - val_categorical_accuracy: 0.7100 - lr: 1.2500e-04\n",
      "Epoch 28/40\n",
      "21/21 [==============================] - ETA: 0s - loss: 0.7563 - categorical_accuracy: 0.7149\n",
      "Epoch 00028: saving model to model_init_2022-12-1105_28_48.396107/model-00028-0.75629-0.71493-0.74068-0.73000.h5\n",
      "21/21 [==============================] - 49s 2s/step - loss: 0.7563 - categorical_accuracy: 0.7149 - val_loss: 0.7407 - val_categorical_accuracy: 0.7300 - lr: 6.2500e-05\n",
      "Epoch 29/40\n",
      "21/21 [==============================] - ETA: 0s - loss: 0.7588 - categorical_accuracy: 0.6983\n",
      "Epoch 00029: saving model to model_init_2022-12-1105_28_48.396107/model-00029-0.75876-0.69834-0.72347-0.74000.h5\n",
      "21/21 [==============================] - 50s 2s/step - loss: 0.7588 - categorical_accuracy: 0.6983 - val_loss: 0.7235 - val_categorical_accuracy: 0.7400 - lr: 6.2500e-05\n",
      "Epoch 30/40\n",
      "21/21 [==============================] - ETA: 0s - loss: 0.7346 - categorical_accuracy: 0.7210\n",
      "Epoch 00030: saving model to model_init_2022-12-1105_28_48.396107/model-00030-0.73461-0.72097-0.69391-0.74000.h5\n",
      "21/21 [==============================] - 50s 2s/step - loss: 0.7346 - categorical_accuracy: 0.7210 - val_loss: 0.6939 - val_categorical_accuracy: 0.7400 - lr: 6.2500e-05\n",
      "Epoch 31/40\n",
      "21/21 [==============================] - ETA: 0s - loss: 0.7527 - categorical_accuracy: 0.6938\n",
      "Epoch 00031: saving model to model_init_2022-12-1105_28_48.396107/model-00031-0.75266-0.69382-0.73537-0.74000.h5\n",
      "21/21 [==============================] - 50s 2s/step - loss: 0.7527 - categorical_accuracy: 0.6938 - val_loss: 0.7354 - val_categorical_accuracy: 0.7400 - lr: 6.2500e-05\n",
      "Epoch 32/40\n",
      "21/21 [==============================] - ETA: 0s - loss: 0.6771 - categorical_accuracy: 0.7466\n",
      "Epoch 00032: saving model to model_init_2022-12-1105_28_48.396107/model-00032-0.67708-0.74661-0.69454-0.76000.h5\n",
      "\n",
      "Epoch 00032: ReduceLROnPlateau reducing learning rate to 3.125000148429535e-05.\n",
      "21/21 [==============================] - 48s 2s/step - loss: 0.6771 - categorical_accuracy: 0.7466 - val_loss: 0.6945 - val_categorical_accuracy: 0.7600 - lr: 6.2500e-05\n",
      "Epoch 33/40\n",
      "21/21 [==============================] - ETA: 0s - loss: 0.6973 - categorical_accuracy: 0.7059\n",
      "Epoch 00033: saving model to model_init_2022-12-1105_28_48.396107/model-00033-0.69730-0.70588-0.70465-0.75000.h5\n",
      "21/21 [==============================] - 50s 2s/step - loss: 0.6973 - categorical_accuracy: 0.7059 - val_loss: 0.7046 - val_categorical_accuracy: 0.7500 - lr: 3.1250e-05\n",
      "Epoch 34/40\n",
      "21/21 [==============================] - ETA: 0s - loss: 0.7121 - categorical_accuracy: 0.7421\n",
      "Epoch 00034: saving model to model_init_2022-12-1105_28_48.396107/model-00034-0.71213-0.74208-0.71231-0.75000.h5\n",
      "\n",
      "Epoch 00034: ReduceLROnPlateau reducing learning rate to 1.5625000742147677e-05.\n",
      "21/21 [==============================] - 50s 2s/step - loss: 0.7121 - categorical_accuracy: 0.7421 - val_loss: 0.7123 - val_categorical_accuracy: 0.7500 - lr: 3.1250e-05\n",
      "Epoch 35/40\n",
      "21/21 [==============================] - ETA: 0s - loss: 0.7114 - categorical_accuracy: 0.7360\n",
      "Epoch 00035: saving model to model_init_2022-12-1105_28_48.396107/model-00035-0.71143-0.73605-0.72973-0.73000.h5\n",
      "21/21 [==============================] - 50s 2s/step - loss: 0.7114 - categorical_accuracy: 0.7360 - val_loss: 0.7297 - val_categorical_accuracy: 0.7300 - lr: 1.5625e-05\n",
      "Epoch 36/40\n",
      "21/21 [==============================] - ETA: 0s - loss: 0.7563 - categorical_accuracy: 0.7164\n",
      "Epoch 00036: saving model to model_init_2022-12-1105_28_48.396107/model-00036-0.75628-0.71644-0.68641-0.75000.h5\n",
      "21/21 [==============================] - 48s 2s/step - loss: 0.7563 - categorical_accuracy: 0.7164 - val_loss: 0.6864 - val_categorical_accuracy: 0.7500 - lr: 1.5625e-05\n",
      "Epoch 37/40\n",
      "21/21 [==============================] - ETA: 0s - loss: 0.7373 - categorical_accuracy: 0.7119\n",
      "Epoch 00037: saving model to model_init_2022-12-1105_28_48.396107/model-00037-0.73730-0.71192-0.69251-0.76000.h5\n",
      "21/21 [==============================] - 50s 2s/step - loss: 0.7373 - categorical_accuracy: 0.7119 - val_loss: 0.6925 - val_categorical_accuracy: 0.7600 - lr: 1.5625e-05\n",
      "Epoch 38/40\n",
      "21/21 [==============================] - ETA: 0s - loss: 0.6616 - categorical_accuracy: 0.7466\n",
      "Epoch 00038: saving model to model_init_2022-12-1105_28_48.396107/model-00038-0.66164-0.74661-0.68869-0.77000.h5\n",
      "\n",
      "Epoch 00038: ReduceLROnPlateau reducing learning rate to 1e-05.\n",
      "21/21 [==============================] - 50s 2s/step - loss: 0.6616 - categorical_accuracy: 0.7466 - val_loss: 0.6887 - val_categorical_accuracy: 0.7700 - lr: 1.5625e-05\n",
      "Epoch 39/40\n",
      "21/21 [==============================] - ETA: 0s - loss: 0.7331 - categorical_accuracy: 0.7119\n",
      "Epoch 00039: saving model to model_init_2022-12-1105_28_48.396107/model-00039-0.73309-0.71192-0.69716-0.77000.h5\n",
      "21/21 [==============================] - 50s 2s/step - loss: 0.7331 - categorical_accuracy: 0.7119 - val_loss: 0.6972 - val_categorical_accuracy: 0.7700 - lr: 1.0000e-05\n",
      "Epoch 40/40\n",
      "21/21 [==============================] - ETA: 0s - loss: 0.6949 - categorical_accuracy: 0.7195\n",
      "Epoch 00040: saving model to model_init_2022-12-1105_28_48.396107/model-00040-0.69493-0.71946-0.68700-0.77000.h5\n",
      "21/21 [==============================] - 48s 2s/step - loss: 0.6949 - categorical_accuracy: 0.7195 - val_loss: 0.6870 - val_categorical_accuracy: 0.7700 - lr: 1.0000e-05\n"
     ]
    },
    {
     "data": {
      "text/plain": [
       "<keras.callbacks.History at 0x7fab95d5df70>"
      ]
     },
     "execution_count": 17,
     "metadata": {},
     "output_type": "execute_result"
    }
   ],
   "source": [
    "if (num_train_sequences%batch_size) == 0:\n",
    "    steps_per_epoch = int(num_train_sequences/batch_size)\n",
    "else:\n",
    "    steps_per_epoch = (num_train_sequences//batch_size) + 1\n",
    "\n",
    "if (num_val_sequences%batch_size) == 0:\n",
    "    validation_steps = int(num_val_sequences/batch_size)\n",
    "else:\n",
    "    validation_steps = (num_val_sequences//batch_size) + 1\n",
    "    \n",
    "model.fit_generator(train_generator, steps_per_epoch=steps_per_epoch, epochs=num_epochs, verbose=1, \n",
    "                    callbacks=callbacks_list, validation_data=val_generator, \n",
    "                    validation_steps=validation_steps, class_weight=None, workers=1, initial_epoch=0)"
   ]
  },
  {
   "cell_type": "markdown",
   "metadata": {},
   "source": [
    "### Observations of Model 2 (CONVO-3D):"
   ]
  },
  {
   "cell_type": "markdown",
   "metadata": {},
   "source": [
    "- So finally we have got very good model using CONVO 3D with below parameters:\n",
    "1. We have used 25 frames of size 80*80 with 3 channels. \n",
    "2. Frame size was reduced/cropped to 80*80 to extract fine features only.\n",
    "3. As we can see we got ***categorical_accuracy: 0.7195*** and ***val_categorical_accuracy: 0.7700***\n",
    "4. This accuracy we got after trying multiple models with different parameters.\n",
    "5. Total trainable parameters ***Trainable params: 9,439,365*** which is even good for webcam hosting.\n",
    "6. This model has 4 convolutional 3D layer followed by batch normalization, maxpooling.\n",
    "7. 0.25 dropout has been added after third convolution layer to reduce overfitting.\n",
    "8. Later it is flattened follwoed by dropout and fed into Dense layer with 5 classification outputs."
   ]
  }
 ],
 "metadata": {
  "kernelspec": {
   "display_name": "Python 3 (ipykernel)",
   "language": "python",
   "name": "python3"
  },
  "language_info": {
   "codemirror_mode": {
    "name": "ipython",
    "version": 3
   },
   "file_extension": ".py",
   "mimetype": "text/x-python",
   "name": "python",
   "nbconvert_exporter": "python",
   "pygments_lexer": "ipython3",
   "version": "3.8.10"
  }
 },
 "nbformat": 4,
 "nbformat_minor": 4
}
