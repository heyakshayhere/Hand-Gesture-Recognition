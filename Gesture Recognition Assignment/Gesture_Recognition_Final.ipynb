{
  "cells": [
    {
      "cell_type": "markdown",
      "metadata": {
        "id": "yqikNyXxHaEU"
      },
      "source": [
        "# Gesture Recognition\n",
        "In this group project, we'll create a 3D Conv model that can accurately predict the five gestures. To begin, please import the following libraries. After finishing the code, you may download the notebook to submit it."
      ]
    },
    {
      "cell_type": "code",
      "execution_count": 1,
      "metadata": {
        "id": "SRVBaaliHaEX"
      },
      "outputs": [],
      "source": [
        "import numpy as np\n",
        "import os\n",
        "from imageio import imread\n",
        "from skimage.transform import resize\n",
        "import datetime\n",
        "import os"
      ]
    },
    {
      "cell_type": "markdown",
      "metadata": {
        "id": "H6lPdGHeHaEY"
      },
      "source": [
        "To prevent significantly different outcomes, we set the random seed."
      ]
    },
    {
      "cell_type": "code",
      "execution_count": 2,
      "metadata": {
        "id": "uZQbLOgbHaEY"
      },
      "outputs": [],
      "source": [
        "np.random.seed(30)\n",
        "import random as rn\n",
        "rn.seed(30)\n",
        "from tensorflow import keras\n",
        "import tensorflow as tf\n",
        "tf.random.set_seed(30)"
      ]
    },
    {
      "cell_type": "code",
      "source": [
        "#Mounting the google drive\n",
        "from google.colab import drive\n",
        "drive.mount('/content/drive')"
      ],
      "metadata": {
        "id": "U1oBWrozTh5J",
        "colab": {
          "base_uri": "https://localhost:8080/"
        },
        "outputId": "77fbfc43-33c2-4a0e-efff-c9fd97ef4108"
      },
      "execution_count": 9,
      "outputs": [
        {
          "output_type": "stream",
          "name": "stdout",
          "text": [
            "Drive already mounted at /content/drive; to attempt to forcibly remount, call drive.mount(\"/content/drive\", force_remount=True).\n"
          ]
        }
      ]
    },
    {
      "cell_type": "markdown",
      "metadata": {
        "id": "TGjZyEaKHaEY"
      },
      "source": [
        "You read the folder names for training and validation in this block. The 'batch_size' is also specified here. Keep in mind that you should choose the batch size such that you can utilize the GPU to its best potential. As soon as the machine raises an error, you keep raising the batch size."
      ]
    },
    {
      "cell_type": "markdown",
      "metadata": {
        "id": "txoIgW68HaEZ"
      },
      "source": [
        "**data path: /content/drive/MyDrive/Project_data**"
      ]
    },
    {
      "cell_type": "code",
      "execution_count": 4,
      "metadata": {
        "id": "zgU5jicrHaEZ"
      },
      "outputs": [],
      "source": [
        "train_doc = np.random.permutation(open('/content/drive/MyDrive/Project_data/Project_data/train.csv').readlines())\n",
        "val_doc = np.random.permutation(open('/content/drive/MyDrive/Project_data/Project_data/val.csv').readlines())\n",
        "batch_size = 39"
      ]
    },
    {
      "cell_type": "code",
      "execution_count": 5,
      "metadata": {
        "id": "AW_bHwAbHaEZ"
      },
      "outputs": [],
      "source": [
        "def image_specifications(nb_frames, x, y):\n",
        "    return [np.round(np.linspace(0, 29, nb_frames)).astype('int'), x, y]\n",
        "\n",
        "\n",
        "img_specs = image_specifications(20, 100, 100)"
      ]
    },
    {
      "cell_type": "markdown",
      "metadata": {
        "id": "pYfKR0XEHaEa"
      },
      "source": [
        "## Generator\n",
        "This is arguably the most significant section of the code. The generator has been given its general structure. You will preprocess the photographs in the generator as well as produce a batch of video frames because the images are of two distinct dimensions. 'img_idx', 'y', 'z', and normalization must be experimented with to get great accuracy."
      ]
    },
    {
      "cell_type": "code",
      "execution_count": 6,
      "metadata": {
        "id": "DcBffn0bHaEa"
      },
      "outputs": [],
      "source": [
        "def get_batch_labels_and_data(source_path, t, batch, batch_size, img_specs):\n",
        "    x, y, z = len(img_specs[0]), img_specs[1], img_specs[2]\n",
        "    img_idx = img_specs[0]  # Make a list of the image reference you wish to utilize for each video.\n",
        "    batch_data = np.zeros((batch_size, x, y, z, 3))  # The number of images you utilize for each video is x, the final size of the input images is (y,z), and there are three RGB channels.\n",
        "    batch_labels = np.zeros((batch_size, 5))  # The one popular output representation is batch_labels.\n",
        "    \n",
        "    for folder in range(batch_size):  # iterating over the batch_size\n",
        "        imgs = os.listdir('{0}/{1}'.format(source_path, t[folder + (batch * batch_size)].split(';')[0]))  # reading all the images in the folder\n",
        "        \n",
        "        for idx, item in enumerate(img_idx):  # Iterating over the frames/images of a folder to read them in\n",
        "            image = imread('{0}/{1}/{2}'.format(source_path, t[folder + (batch * batch_size)].strip().split(';')[0], imgs[item])).astype(np.float32)\n",
        "            \n",
        "            #Resize and crop the images. Keep in mind that the images are of two distinct shapes. \n",
        "            #and if a batch's inputs are of different shapes, conv3D will give an error.\n",
        "            \n",
        "            if image.shape[0] != image.shape[1]:\n",
        "                image = image[:120, 20:140]\n",
        "            image = resize(image, (y, z))\n",
        "            \n",
        "            batch_data[folder, idx, :, :, 0] = image[:, :, 0] / 255.0  # normalize and include the image\n",
        "            batch_data[folder, idx, :, :, 1] = image[:, :, 1] / 255.0  # normalize and include the image\n",
        "            batch_data[folder, idx, :, :, 2] = image[:, :, 2] / 255.0  # normalize and include the image\n",
        "        \n",
        "        batch_labels[folder, int(t[folder + (batch * batch_size)].strip().split(';')[2])] = 1\n",
        "    \n",
        "    return batch_data, batch_labels\n",
        "\n",
        "\n",
        "def generator(source_path, folder_list, batch_size, img_specs=img_specs):\n",
        "    print(f\"Source Path: {source_path}; Batch Size: {batch_size}\")\n",
        "    while True:\n",
        "        t = np.random.permutation(folder_list)\n",
        "        num_batches = int(len(folder_list) / batch_size)\n",
        "        for batch in range(num_batches):  # we are iterating over the number of batches\n",
        "            yield get_batch_labels_and_data(source_path, t, batch, batch_size, img_specs)  # You give the batch_data and batch_labels, but keep in mind what yield actually accomplishes.\n",
        "        \n",
        "        # build the program to handle the data points that are still available after full batches.\n",
        "        if len(folder_list) % batch_size != 0:\n",
        "            batch_size = len(folder_list) % batch_size\n",
        "            yield get_batch_labels_and_data(source_path, t, batch, batch_size, img_specs)  # You give the batch_data and batch_labels, but keep in mind what yield actually accomplishes."
      ]
    },
    {
      "cell_type": "markdown",
      "metadata": {
        "id": "dew5eFLqHaEb"
      },
      "source": [
        "Please take note that a video is shown as the following in the generator: (number of images, height, width, number of channels). Consider this while developing the model architecture."
      ]
    },
    {
      "cell_type": "code",
      "execution_count": 7,
      "metadata": {
        "id": "dj-pcWaHHaEb",
        "outputId": "2ad853ba-dd4a-41c6-f4a9-077fa95bea1f",
        "colab": {
          "base_uri": "https://localhost:8080/"
        }
      },
      "outputs": [
        {
          "output_type": "stream",
          "name": "stdout",
          "text": [
            "# training sequences: 663\n",
            "# validation sequences: 100\n",
            "# epcohs: 20\n"
          ]
        }
      ],
      "source": [
        "curr_dt_time = datetime.datetime.now()\n",
        "train_path = '/content/drive/MyDrive/Project_data/Project_data/train'\n",
        "val_path = '/content/drive/MyDrive/Project_data/Project_data/val'\n",
        "num_train_sequences = len(train_doc)\n",
        "print(f\"# training sequences: {num_train_sequences}\")\n",
        "num_val_sequences = len(val_doc)\n",
        "print(f\"# validation sequences: {num_val_sequences}\")\n",
        "num_epochs = 20 # choose the number of epochs\n",
        "print(f\"# epcohs: {num_epochs}\")"
      ]
    },
    {
      "cell_type": "markdown",
      "metadata": {
        "id": "DDjZ7mr9HaEc"
      },
      "source": [
        "## Model\n",
        "Here, you create the model with several Keras functionalities. For a 3D convolution model, keep in mind to use \"Conv3D\" and \"MaxPooling3D,\" not \"Conv2D\" and \"Maxpooling2D.\" When creating a Conv2D + RNN model, you should use \"TimeDistributed.\" Also keep in mind that the softmax is the final layer. Create the network so that the model can provide acceptable accuracy with the fewest amount of parameters possible, fitting into the webcam's memory."
      ]
    },
    {
      "cell_type": "code",
      "execution_count": 8,
      "metadata": {
        "id": "jyCqeOR4HaEc"
      },
      "outputs": [],
      "source": [
        "from tensorflow.keras.models import Sequential\n",
        "\n",
        "from tensorflow.keras.layers import Activation\n",
        "from tensorflow.keras.layers import BatchNormalization\n",
        "from tensorflow.keras.layers import Conv2D\n",
        "from tensorflow.keras.layers import Conv3D\n",
        "from tensorflow.keras.layers import ConvLSTM2D\n",
        "from tensorflow.keras.layers import Dense\n",
        "from tensorflow.keras.layers import Dropout\n",
        "from tensorflow.keras.layers import Flatten\n",
        "from tensorflow.keras.layers import GlobalAveragePooling2D\n",
        "from tensorflow.keras.layers import GlobalAveragePooling3D\n",
        "from tensorflow.keras.layers import GRU\n",
        "from tensorflow.keras.layers import LSTM\n",
        "from tensorflow.keras.layers import MaxPooling3D, MaxPooling2D\n",
        "from tensorflow.keras.layers import TimeDistributed\n",
        "\n",
        "from tensorflow.keras.callbacks import ModelCheckpoint\n",
        "from tensorflow.keras.callbacks import ReduceLROnPlateau\n",
        "\n",
        "from tensorflow.keras import optimizers"
      ]
    },
    {
      "cell_type": "code",
      "execution_count": null,
      "metadata": {
        "id": "-fnYLAzJHaEd"
      },
      "outputs": [],
      "source": [
        "input_shape = (len(img_specs[0]), img_specs[1], img_specs[2], 3)"
      ]
    },
    {
      "cell_type": "markdown",
      "metadata": {
        "id": "LOyoWd8wHaEd"
      },
      "source": [
        "### Model - 1:"
      ]
    },
    {
      "cell_type": "code",
      "execution_count": null,
      "metadata": {
        "id": "AIskR5hPHaEd"
      },
      "outputs": [],
      "source": [
        "# Describe your model here.\n",
        "\n",
        "# model 1 -- base model\n",
        "\n",
        "#model = Sequential()\n",
        "\n",
        "#model.add(Conv3D(32, kernel_size=3, activation='relu', input_shape=input_shape))\n",
        "\n",
        "#model.add(Conv3D(63, kernel_size=3, activation='relu'))\n",
        "#model.add(MaxPooling3D(pool_size=2))\n",
        "\n",
        "#model.add(Flatten())\n",
        "#model.add(Dense(256, activation='relu'))\n",
        "#model.add(Dense(5, activation='softmax'))"
      ]
    },
    {
      "cell_type": "markdown",
      "metadata": {
        "id": "-LpmTgSjHaEd"
      },
      "source": [
        "Number of Epochs:- 20 <br />\n",
        "Train accuracy:- 0.21 and Validation accuracy:- 0.42 <br />\n",
        "The model is unable to learn and developing by adding more layers."
      ]
    },
    {
      "cell_type": "markdown",
      "metadata": {
        "id": "qq4p8yhRHaEd"
      },
      "source": [
        "### Model - 2"
      ]
    },
    {
      "cell_type": "code",
      "execution_count": null,
      "metadata": {
        "id": "bvuEzRCeHaEd"
      },
      "outputs": [],
      "source": [
        "# model 2 -- expanding the number of layers\n",
        "\n",
        "# model = Sequential()\n",
        "\n",
        "# model.add(Conv3D(16, (3, 3, 3), padding='same',input_shape=input_shape))\n",
        "# model.add(Activation('relu'))\n",
        "# model.add(BatchNormalization())\n",
        "        \n",
        "# model.add(Conv3D(16, (3, 3, 3), padding='same',input_shape=input_shape))\n",
        "# model.add(Activation('relu'))\n",
        "# model.add(BatchNormalization())\n",
        "# model.add(MaxPooling3D(pool_size=(2, 2, 2)))\n",
        "\n",
        "# model.add(Conv3D(32, (3, 3, 3), padding='same'))\n",
        "# model.add(Activation('relu'))\n",
        "# model.add(BatchNormalization())\n",
        "        \n",
        "# model.add(Conv3D(32, (3, 3, 3), padding='same'))\n",
        "# model.add(Activation('relu'))\n",
        "# model.add(BatchNormalization())\n",
        "# model.add(MaxPooling3D(pool_size=(2, 2, 2)))\n",
        "\n",
        "# model.add(Conv3D(64, (3, 3, 3), padding='same'))\n",
        "# model.add(Activation('relu'))\n",
        "# model.add(BatchNormalization())\n",
        "        \n",
        "# model.add(Conv3D(64, (3, 3, 3), padding='same'))\n",
        "# model.add(Activation('relu'))\n",
        "# model.add(BatchNormalization())\n",
        "# model.add(MaxPooling3D(pool_size=(2, 2, 2)))\n",
        "\n",
        "# model.add(Conv3D(128, (3, 3, 3), padding='same'))\n",
        "# model.add(Activation('relu'))\n",
        "# model.add(BatchNormalization())\n",
        "        \n",
        "# model.add(Conv3D(128, (3, 3, 3), padding='same'))\n",
        "# model.add(Activation('relu'))\n",
        "# model.add(BatchNormalization())\n",
        "# model.add(MaxPooling3D(pool_size=(2, 2, 2)))\n",
        "\n",
        "# model.add(Flatten())\n",
        "# model.add(Dense(64, activation='relu'))\n",
        "# model.add(BatchNormalization())\n",
        "# model.add(Dropout(0.25))\n",
        "\n",
        "# model.add(Dense(63, activation='relu'))\n",
        "# model.add(BatchNormalization())\n",
        "# model.add(Dropout(0.25))\n",
        "\n",
        "# model.add(Dense(5, activation='softmax'))"
      ]
    },
    {
      "cell_type": "markdown",
      "metadata": {
        "id": "bAbFczZxHaEe"
      },
      "source": [
        "Number of Epochs:- 20<br />\n",
        "Train accuracy:- 0.60 and Validation accuracy: 0.76 <br />\n",
        "Some of the parameters are reduced as a result of the train accuracy and validation accuracy being below average."
      ]
    },
    {
      "cell_type": "markdown",
      "metadata": {
        "id": "nx50O_XiHaEe"
      },
      "source": [
        "### Model - 3"
      ]
    },
    {
      "cell_type": "code",
      "execution_count": null,
      "metadata": {
        "id": "WA_VkrBqHaEe"
      },
      "outputs": [],
      "source": [
        "# model 3 -- lowering the number of the parameters\n",
        "\n",
        "# model = Sequential()\n",
        "\n",
        "# model.add(Conv3D(16, (3, 3, 3), padding='same',input_shape=input_shape))\n",
        "# model.add(Activation('relu'))\n",
        "# model.add(BatchNormalization())\n",
        "# model.add(MaxPooling3D(pool_size=(2, 2, 2)))\n",
        "\n",
        "# model.add(Conv3D(32, (2, 2, 2), padding='same'))\n",
        "# model.add(Activation('relu'))\n",
        "# model.add(BatchNormalization())\n",
        "# model.add(MaxPooling3D(pool_size=(2, 2, 2)))\n",
        "\n",
        "# model.add(Conv3D(64, (2, 2, 2), padding='same'))\n",
        "# model.add(Activation('relu'))\n",
        "# model.add(BatchNormalization())\n",
        "# model.add(MaxPooling3D(pool_size=(2, 2, 2)))\n",
        "\n",
        "# model.add(Conv3D(128, (2, 2, 2), padding='same'))\n",
        "# model.add(Activation('relu'))\n",
        "# model.add(BatchNormalization())\n",
        "# model.add(MaxPooling3D(pool_size=(2, 2, 2)))\n",
        "        \n",
        "# model.add(Flatten())\n",
        "# model.add(Dense(64,activation='relu'))\n",
        "# model.add(BatchNormalization())\n",
        "# model.add(Dropout(0.25))\n",
        "\n",
        "# model.add(Dense(64, activation='relu'))\n",
        "# model.add(BatchNormalization())\n",
        "# model.add(Dropout(0.25))\n",
        "\n",
        "# model.add(Dense(5, activation='softmax'))"
      ]
    },
    {
      "cell_type": "markdown",
      "metadata": {
        "id": "RVhmeD7kHaEe"
      },
      "source": [
        "Number of Epcohs: 20 <br />\n",
        "Train accuracuy: 0.96 and Validation accuracy: 0.82 <br />\n",
        "The model appears to be overfitting, further reducing the number of parameters."
      ]
    },
    {
      "cell_type": "markdown",
      "metadata": {
        "id": "ZL9Jr4zTHaEe"
      },
      "source": [
        "### Model - 4"
      ]
    },
    {
      "cell_type": "code",
      "execution_count": null,
      "metadata": {
        "id": "kqW_-ZVbHaEf"
      },
      "outputs": [],
      "source": [
        "# model 4 -- lowering still more trainable variables\n",
        "\n",
        "# model = Sequential()\n",
        "\n",
        "# model.add(Conv3D(16, (3, 3, 3), padding='same',input_shape=input_shape))\n",
        "# model.add(Activation('relu'))\n",
        "# model.add(BatchNormalization())\n",
        "# model.add(MaxPooling3D(pool_size=(2, 2, 2)))\n",
        "\n",
        "# model.add(Conv3D(32, (3, 3, 3), padding='same'))\n",
        "# model.add(Activation('relu'))\n",
        "# model.add(BatchNormalization())\n",
        "# model.add(MaxPooling3D(pool_size=(2, 2, 2)))\n",
        "\n",
        "# model.add(Conv3D(64, (2, 2, 2), padding='same'))\n",
        "# model.add(Activation('relu'))\n",
        "# model.add(BatchNormalization())\n",
        "# model.add(MaxPooling3D(pool_size=(2, 2, 2)))\n",
        "\n",
        "# model.add(Conv3D(128, (2, 2, 2), padding='same'))\n",
        "# model.add(Activation('relu'))\n",
        "# model.add(BatchNormalization())\n",
        "# model.add(MaxPooling3D(pool_size=(2, 2, 2)))\n",
        "        \n",
        "# model.add(Flatten())\n",
        "# model.add(Dense(64, activation='relu'))\n",
        "# model.add(BatchNormalization())\n",
        "# model.add(Dropout(0.25))\n",
        "\n",
        "# model.add(Dense(64, activation='relu'))\n",
        "# model.add(BatchNormalization())\n",
        "# model.add(Dropout(0.25))\n",
        "\n",
        "# model.add(Dense(5, activation='softmax'))"
      ]
    },
    {
      "cell_type": "markdown",
      "metadata": {
        "id": "Ir0kxErXHaEf"
      },
      "source": [
        "Number of Epochs:- 20 <br />\n",
        "Train accuracuy:- 0.18 and Validation accuracy:- 0.56 <br />\n",
        "Too many parameters were eliminated, which resulted in a model that was significantly underfit.. <br />\n",
        "eliminating the Dropout layers, increasing the number of epochs from 20 to 40, and developing a new model."
      ]
    },
    {
      "cell_type": "markdown",
      "metadata": {
        "id": "ekNybOHnHaEf"
      },
      "source": [
        "### Model - 5"
      ]
    },
    {
      "cell_type": "code",
      "execution_count": null,
      "metadata": {
        "id": "CcpgoX8iHaEf"
      },
      "outputs": [],
      "source": [
        "# model - 5 -- expanding the number of parameters\n",
        "\n",
        "# model = Sequential()\n",
        "\n",
        "# model.add(Conv3D(32, kernel_size=3, activation='relu', input_shape=input_shape))\n",
        "# model.add(Conv3D(64, kernel_size=3, activation='relu'))\n",
        "# model.add(MaxPooling3D(pool_size=(2, 2, 2)))\n",
        "# model.add(BatchNormalization())\n",
        "\n",
        "# model.add(Conv3D(128, kernel_size=3, activation='relu'))\n",
        "# model.add(MaxPooling3D(pool_size=(1, 2, 2)))\n",
        "# model.add(BatchNormalization())\n",
        "\n",
        "# model.add(Conv3D(256, kernel_size=(1, 3, 3), activation='relu'))\n",
        "# model.add(MaxPooling3D(pool_size=(1, 2, 2)))\n",
        "# model.add(BatchNormalization())\n",
        "\n",
        "# model.add(Conv3D(512, kernel_size=(1, 3, 3), activation='relu'))\n",
        "# model.add(Conv3D(512, kernel_size=(1, 3, 3), activation='relu'))\n",
        "# model.add(MaxPooling3D(pool_size=(1, 2, 2)))\n",
        "# model.add(BatchNormalization())\n",
        "\n",
        "# model.add(Flatten())\n",
        "# model.add(Dense(512, activation='relu'))\n",
        "# model.add(BatchNormalization())\n",
        "# model.add(Dense(5, activation='softmax'))"
      ]
    },
    {
      "cell_type": "markdown",
      "metadata": {
        "id": "Yy_G9kI3HaEf"
      },
      "source": [
        "Number of Epochs: 40<br />\n",
        "Training accuracy: 1.00 and Validation accuracy: 0.93 <br />\n",
        "Clearly, the model is overfitting. lowering the parameter count and once again including Dropout layers."
      ]
    },
    {
      "cell_type": "markdown",
      "metadata": {
        "id": "F5J8h7F1HaEf"
      },
      "source": [
        "### Model - 6"
      ]
    },
    {
      "cell_type": "code",
      "execution_count": null,
      "metadata": {
        "id": "-Y3QhdhkHaEf"
      },
      "outputs": [],
      "source": [
        "# model - 6 -- lowering the parameter count and reintroducing dropout layers\n",
        "\n",
        "# model = Sequential()\n",
        "\n",
        "# model.add(Conv3D(16, (5, 5, 5), activation='relu', input_shape=input_shape))\n",
        "# model.add(MaxPooling3D((2, 2, 2), padding='same'))\n",
        "# model.add(BatchNormalization())\n",
        "\n",
        "# model.add(Conv3D(32, (3, 3, 3), activation='relu'))\n",
        "# model.add(MaxPooling3D(pool_size=(1, 2, 2), padding='same'))\n",
        "# model.add(BatchNormalization())\n",
        "\n",
        "# model.add(Conv3D(64, (3, 3, 3), activation='relu'))\n",
        "# model.add(MaxPooling3D(pool_size=(1, 2, 2), padding='same'))\n",
        "# model.add(BatchNormalization())\n",
        "\n",
        "# model.add(Flatten())\n",
        "# model.add(Dense(128, activation='relu'))\n",
        "# model.add(BatchNormalization())\n",
        "# model.add(Dropout(0.2))\n",
        "\n",
        "# model.add(Dense(64, activation='relu'))\n",
        "# model.add(BatchNormalization())\n",
        "# model.add(Dropout(0.2))\n",
        "\n",
        "# model.add(Dense(5, activation='softmax'))"
      ]
    },
    {
      "cell_type": "markdown",
      "metadata": {
        "id": "7xevZ-9CHaEf"
      },
      "source": [
        "Number of Epochs: 40 <br />\n",
        "Training accuracy: 0.98 and Validation accuracy: 1.00 <br />\n",
        "Despite a large improvement in validation accuracy, the model still appears to overfit the data. <br />\n",
        "The number of Dropout layers should be increased, and GlobalAveragePooling3D should be used in place of Flatten."
      ]
    },
    {
      "cell_type": "markdown",
      "metadata": {
        "id": "FduPTAEjHaEf"
      },
      "source": [
        "### Model - 7"
      ]
    },
    {
      "cell_type": "code",
      "execution_count": null,
      "metadata": {
        "id": "OjrJxWcOHaEg"
      },
      "outputs": [],
      "source": [
        "# model - 7 -- The number of Droupout layers should be increased, and Flatten should be replaced by GlobalAveragePooling3D.\n",
        "\n",
        "# model = Sequential()\n",
        "\n",
        "# model.add(Conv3D(32, kernel_size=3, activation='relu', input_shape=input_shape))\n",
        "# model.add(Conv3D(64, kernel_size=3, activation='relu'))\n",
        "# model.add(MaxPooling3D(pool_size=(2, 2, 2)))\n",
        "# model.add(BatchNormalization())\n",
        "# model.add(Dropout(0.2))\n",
        "\n",
        "# model.add(Conv3D(128, kernel_size=3, activation='relu'))\n",
        "# model.add(MaxPooling3D(pool_size=(1, 2, 2)))\n",
        "# model.add(BatchNormalization())\n",
        "# model.add(Dropout(0.2))\n",
        "\n",
        "# model.add(Conv3D(256, kernel_size=(1, 3, 3), activation='relu'))\n",
        "# model.add(MaxPooling3D(pool_size=(1, 2, 2)))\n",
        "# model.add(BatchNormalization())\n",
        "# model.add(Dropout(0.2))\n",
        "\n",
        "# model.add(GlobalAveragePooling3D())\n",
        "# model.add(Dense(512, activation='relu'))\n",
        "# model.add(BatchNormalization())\n",
        "# model.add(Dense(5, activation='softmax'))"
      ]
    },
    {
      "cell_type": "markdown",
      "metadata": {
        "id": "H5r2UTGBHaEg"
      },
      "source": [
        "Number of Epochs: 40<br />\n",
        "Train accuracy: 0.98 and Validation accuracy: 0.92 <br />\n",
        "Both the train and validation accuracy are in 0.9 range. <br />\n",
        "However, given that the train accuracy is so close to 1, it may be worthwhile to experiment with other architectural designs."
      ]
    },
    {
      "cell_type": "markdown",
      "metadata": {
        "id": "dQhR0VObHaEg"
      },
      "source": [
        "### Model - 8"
      ]
    },
    {
      "cell_type": "code",
      "execution_count": null,
      "metadata": {
        "id": "NjukgLOIHaEg"
      },
      "outputs": [],
      "source": [
        "# model - 8 -- 20 epochs for CNN with LSTM\n",
        "\n",
        "# model = Sequential()\n",
        "\n",
        "# model.add(TimeDistributed(Conv2D(16, (3, 3) , padding='same', activation='relu'), input_shape=input_shape))\n",
        "# model.add(TimeDistributed(BatchNormalization()))\n",
        "# model.add(TimeDistributed(MaxPooling2D((2, 2))))\n",
        "        \n",
        "# model.add(TimeDistributed(Conv2D(32, (3, 3) , padding='same', activation='relu')))\n",
        "# model.add(TimeDistributed(BatchNormalization()))\n",
        "# model.add(TimeDistributed(MaxPooling2D((2, 2))))\n",
        "        \n",
        "# model.add(TimeDistributed(Conv2D(64, (3, 3) , padding='same', activation='relu')))\n",
        "# model.add(TimeDistributed(BatchNormalization()))\n",
        "# model.add(TimeDistributed(MaxPooling2D((2, 2))))\n",
        "        \n",
        "# model.add(TimeDistributed(Conv2D(128, (3, 3) , padding='same', activation='relu')))\n",
        "# model.add(TimeDistributed(BatchNormalization()))\n",
        "# model.add(TimeDistributed(MaxPooling2D((2, 2))))\n",
        "        \n",
        "# model.add(TimeDistributed(Conv2D(256, (3, 3) , padding='same', activation='relu')))\n",
        "# model.add(TimeDistributed(BatchNormalization()))\n",
        "# model.add(TimeDistributed(MaxPooling2D((2, 2))))\n",
        "\n",
        "# model.add(TimeDistributed(Flatten()))\n",
        "# model.add(LSTM(64))\n",
        "# model.add(Dropout(0.25))\n",
        "        \n",
        "# model.add(Dense(64,activation='relu'))\n",
        "# model.add(Dropout(0.25))\n",
        "        \n",
        "# model.add(Dense(5, activation='softmax'))"
      ]
    },
    {
      "cell_type": "markdown",
      "metadata": {
        "id": "vIB7miiUHaEg"
      },
      "source": [
        "Number of Epochs: 20 <br />\n",
        "Train accuracy: 0.52 and Validation accuracy: 0.68 <br />\n",
        "The model's accuracy is below average. trying different the architecture -> Conv2D with GRU"
      ]
    },
    {
      "cell_type": "markdown",
      "metadata": {
        "id": "4Jue7z3_HaEg"
      },
      "source": [
        "### Model - 9"
      ]
    },
    {
      "cell_type": "code",
      "execution_count": null,
      "metadata": {
        "id": "wb0bHAPFHaEg"
      },
      "outputs": [],
      "source": [
        "# model - 9 -- TimeDistributed Conv2D + GRU\n",
        "\n",
        "# model = Sequential()\n",
        "\n",
        "# model.add(TimeDistributed(Conv2D(32, (3, 3), activation='relu'), input_shape=input_shape))\n",
        "# model.add(TimeDistributed(MaxPooling2D(2, 2)))\n",
        "# model.add(BatchNormalization())\n",
        "\n",
        "# model.add(TimeDistributed(Conv2D(64, (3, 3), activation='relu')))\n",
        "# model.add(TimeDistributed(MaxPooling2D(2, 2)))\n",
        "# model.add(BatchNormalization())\n",
        "\n",
        "# model.add(TimeDistributed(GlobalAveragePooling2D()))\n",
        "# model.add(TimeDistributed(Dense(63, activation='relu')))\n",
        "# model.add(BatchNormalization())\n",
        "\n",
        "# model.add(GRU(128))\n",
        "# model.add(BatchNormalization())\n",
        "# model.add(Dense(5, activation='relu'))"
      ]
    },
    {
      "cell_type": "markdown",
      "metadata": {
        "id": "as3BC9gkHaEh"
      },
      "source": [
        "Number of Epochs: 40 <br />\n",
        "Train accuracy: 0.95 and Validation accuracy: 0.83 <br />\n",
        "By including Dropout layers to the model, the gap between the train and validation accuracy is substantial."
      ]
    },
    {
      "cell_type": "markdown",
      "metadata": {
        "id": "GxfcdE1nHaEh"
      },
      "source": [
        "### Model - 10"
      ]
    },
    {
      "cell_type": "code",
      "execution_count": null,
      "metadata": {
        "id": "0EDOxeCFHaEh"
      },
      "outputs": [],
      "source": [
        "# model - 10 -- TimeDistributed Conv2D + GRU\n",
        "\n",
        "# model = Sequential()\n",
        "\n",
        "# model.add(TimeDistributed(Conv2D(32, (3, 3), activation='relu'), input_shape=input_shape))\n",
        "# model.add(TimeDistributed(MaxPooling2D(2, 2)))\n",
        "# model.add(BatchNormalization())\n",
        "\n",
        "# model.add(TimeDistributed(Conv2D(64, (3, 3), activation='relu')))\n",
        "# model.add(TimeDistributed(MaxPooling2D(2, 2)))\n",
        "# model.add(BatchNormalization())\n",
        "\n",
        "# model.add(TimeDistributed(GlobalAveragePooling2D()))\n",
        "# model.add(TimeDistributed(Dense(63, activation='relu')))\n",
        "# model.add(BatchNormalization())\n",
        "# model.add(Dropout(0.2))\n",
        "\n",
        "# model.add(GRU(128))\n",
        "# model.add(BatchNormalization())\n",
        "# model.add(Dense(5, activation='relu'))"
      ]
    },
    {
      "cell_type": "markdown",
      "metadata": {
        "id": "X2OSl4g6HaEh"
      },
      "source": [
        "Number of Epochs: 40 <br />\n",
        "Train accuracy: 0.85 and Validation accuracy: 0.59 <br />\n",
        "by changing to the TimeDistributed Conv2D with GlobalAveragePooling3D model and upping the epoch count to 50."
      ]
    },
    {
      "cell_type": "markdown",
      "metadata": {
        "id": "riOeclrtHaEh"
      },
      "source": [
        "### Model - 11"
      ]
    },
    {
      "cell_type": "code",
      "execution_count": null,
      "metadata": {
        "id": "A8eizqAHHaEh"
      },
      "outputs": [],
      "source": [
        "# model - 11 -- TimeDistributed Conv2D with GlobalAvreagePooling3D\n",
        "\n",
        "# model = Sequential()\n",
        "\n",
        "# model.add(TimeDistributed(Conv2D(32, (3, 3), activation='relu'), input_shape=input_shape))\n",
        "# model.add(TimeDistributed(MaxPooling2D(2, 2)))\n",
        "# model.add(BatchNormalization())\n",
        "\n",
        "# model.add(TimeDistributed(Conv2D(64, (3, 3), activation='relu')))\n",
        "# model.add(TimeDistributed(MaxPooling2D(2, 2)))\n",
        "# model.add(BatchNormalization())\n",
        "\n",
        "# model.add(TimeDistributed(Conv2D(128, (3, 3), activation='relu')))\n",
        "# model.add(TimeDistributed(MaxPooling2D(2, 2)))\n",
        "# model.add(BatchNormalization())\n",
        "\n",
        "# model.add(GlobalAveragePooling3D())\n",
        "# model.add(Dense(256, activation='relu'))\n",
        "# model.add(BatchNormalization())\n",
        "# model.add(Dense(5, activation='softmax'))"
      ]
    },
    {
      "cell_type": "markdown",
      "metadata": {
        "id": "UavwutHYHaEh"
      },
      "source": [
        "Epochs: 50 <br />\n",
        "Train accuracy: 0.99 and Validation accuracy: 0.92 <br />\n",
        "Both the train and validation accuracy are in the .9 range <br />\n",
        "However, the model is probably overfitting given how near the Train accuracy is to 1. <br />\n",
        "Adding Dropout layers to Model 10 while maintaining the same number of epochs."
      ]
    },
    {
      "cell_type": "markdown",
      "metadata": {
        "id": "vDi2ZWscHaEi"
      },
      "source": [
        "### Model - 12 - Final Model"
      ]
    },
    {
      "cell_type": "code",
      "execution_count": null,
      "metadata": {
        "id": "b0NrlQBnHaEi"
      },
      "outputs": [],
      "source": [
        "model = Sequential()\n",
        "\n",
        "model.add(TimeDistributed(Conv2D(32, (3, 3), activation='relu'), input_shape=input_shape))\n",
        "model.add(TimeDistributed(MaxPooling2D(2, 2)))\n",
        "model.add(BatchNormalization())\n",
        "\n",
        "model.add(TimeDistributed(Conv2D(64, (3, 3), activation='relu')))\n",
        "model.add(TimeDistributed(MaxPooling2D(2, 2)))\n",
        "model.add(BatchNormalization())\n",
        "model.add(Dropout(0.25))\n",
        "\n",
        "model.add(TimeDistributed(Conv2D(128, (3, 3), activation='relu')))\n",
        "model.add(TimeDistributed(MaxPooling2D(2, 2)))\n",
        "model.add(BatchNormalization())\n",
        "model.add(Dropout(0.25))\n",
        "\n",
        "model.add(GlobalAveragePooling3D())\n",
        "model.add(Dense(256, activation='relu'))\n",
        "model.add(BatchNormalization())\n",
        "model.add(Dropout(0.5))\n",
        "model.add(Dense(5, activation='softmax'))"
      ]
    },
    {
      "cell_type": "markdown",
      "metadata": {
        "id": "OdtcinbqHaEi"
      },
      "source": [
        "Number of Epochs: 50 <br />\n",
        "Train accuracy: 0.96 and Validation Accuracy = 0.91 <br />\n",
        "The train accuracy and validation accuracy are both around.9. <br />\n",
        "Additionally, the accuracy gap between the train and validation sets is not very large. <br />\n",
        "Selecting the __Model - 12__ (TimeDistributed Conv2D with GlobalAveragePooling3D and Dropouts)."
      ]
    },
    {
      "cell_type": "markdown",
      "metadata": {
        "id": "ADijmJ4IHaEi"
      },
      "source": [
        "The next step is to 'compile' the model after it has been written. You can see how many parameters you must train when you print the model's \"summary.\""
      ]
    },
    {
      "cell_type": "code",
      "execution_count": null,
      "metadata": {
        "id": "i1d1aO-kHaEi",
        "outputId": "000bb696-d35a-4118-9c3d-3a1a28b1ccee",
        "colab": {
          "base_uri": "https://localhost:8080/"
        }
      },
      "outputs": [
        {
          "output_type": "stream",
          "name": "stdout",
          "text": [
            "Model: \"sequential_5\"\n",
            "_________________________________________________________________\n",
            " Layer (type)                Output Shape              Param #   \n",
            "=================================================================\n",
            " time_distributed_12 (TimeDi  (None, 20, 98, 98, 32)   896       \n",
            " stributed)                                                      \n",
            "                                                                 \n",
            " time_distributed_13 (TimeDi  (None, 20, 49, 49, 32)   0         \n",
            " stributed)                                                      \n",
            "                                                                 \n",
            " batch_normalization_8 (Batc  (None, 20, 49, 49, 32)   128       \n",
            " hNormalization)                                                 \n",
            "                                                                 \n",
            " time_distributed_14 (TimeDi  (None, 20, 47, 47, 64)   18496     \n",
            " stributed)                                                      \n",
            "                                                                 \n",
            " time_distributed_15 (TimeDi  (None, 20, 23, 23, 64)   0         \n",
            " stributed)                                                      \n",
            "                                                                 \n",
            " batch_normalization_9 (Batc  (None, 20, 23, 23, 64)   256       \n",
            " hNormalization)                                                 \n",
            "                                                                 \n",
            " dropout_6 (Dropout)         (None, 20, 23, 23, 64)    0         \n",
            "                                                                 \n",
            " time_distributed_16 (TimeDi  (None, 20, 21, 21, 128)  73856     \n",
            " stributed)                                                      \n",
            "                                                                 \n",
            " time_distributed_17 (TimeDi  (None, 20, 10, 10, 128)  0         \n",
            " stributed)                                                      \n",
            "                                                                 \n",
            " batch_normalization_10 (Bat  (None, 20, 10, 10, 128)  512       \n",
            " chNormalization)                                                \n",
            "                                                                 \n",
            " dropout_7 (Dropout)         (None, 20, 10, 10, 128)   0         \n",
            "                                                                 \n",
            " global_average_pooling3d_2   (None, 128)              0         \n",
            " (GlobalAveragePooling3D)                                        \n",
            "                                                                 \n",
            " dense_10 (Dense)            (None, 256)               33024     \n",
            "                                                                 \n",
            " batch_normalization_11 (Bat  (None, 256)              1024      \n",
            " chNormalization)                                                \n",
            "                                                                 \n",
            " dropout_8 (Dropout)         (None, 256)               0         \n",
            "                                                                 \n",
            " dense_11 (Dense)            (None, 5)                 1285      \n",
            "                                                                 \n",
            "=================================================================\n",
            "Total params: 129,477\n",
            "Trainable params: 128,517\n",
            "Non-trainable params: 960\n",
            "_________________________________________________________________\n",
            "None\n"
          ]
        }
      ],
      "source": [
        "optimiser = optimizers.Adam(lr=0.01)  # write your optimizer here\n",
        "model.compile(optimizer=optimiser, loss='categorical_crossentropy', metrics=['categorical_accuracy'])\n",
        "print(model.summary())"
      ]
    },
    {
      "cell_type": "markdown",
      "metadata": {
        "id": "s4rdZis5HaEi"
      },
      "source": [
        "Let's build the \"train generator\" and \"val generator,\" which will be used in the \".fit generator.\""
      ]
    },
    {
      "cell_type": "code",
      "execution_count": null,
      "metadata": {
        "id": "3kNlspv0HaEi"
      },
      "outputs": [],
      "source": [
        "train_generator = generator(train_path, train_doc, batch_size)\n",
        "val_generator = generator(val_path, val_doc, batch_size)"
      ]
    },
    {
      "cell_type": "code",
      "execution_count": null,
      "metadata": {
        "id": "0lnuzS2hHaEi"
      },
      "outputs": [],
      "source": [
        "model_name = 'model_init_{}/'.format(str(curr_dt_time).replace(' ', '').replace(':', '_'))\n",
        "    \n",
        "if not os.path.exists(model_name):\n",
        "    os.mkdir(model_name)\n",
        "        \n",
        "filepath = model_name + 'model-{epoch:05d}-{loss:.5f}-{categorical_accuracy:.5f}-{val_loss:.5f}-{val_categorical_accuracy:.5f}.h5'\n",
        "\n",
        "checkpoint = ModelCheckpoint(filepath,\n",
        "                             monitor='val_loss',\n",
        "                             verbose=1,\n",
        "                             save_best_only=False,\n",
        "                             save_weights_only=False,\n",
        "                             mode='auto',\n",
        "                             save_freq='epoch')\n",
        "\n",
        "LR = ReduceLROnPlateau(monitor='val_loss', factor=0.2, patience=5, min_lr=0.001, verbose=1)  # writting the REducelronplateau code here\n",
        "\n",
        "callbacks_list = [checkpoint, LR]"
      ]
    },
    {
      "cell_type": "markdown",
      "metadata": {
        "id": "dKIs6pbuHaEi"
      },
      "source": [
        "The \"fit\" method uses \"steps_per_epoch\" and \"validation_steps\" to determine how many calls to next() it needs to make."
      ]
    },
    {
      "cell_type": "code",
      "execution_count": null,
      "metadata": {
        "id": "MYrO6xrqHaEj"
      },
      "outputs": [],
      "source": [
        "if (num_train_sequences%batch_size) == 0:\n",
        "    steps_per_epoch = int(num_train_sequences/batch_size)\n",
        "else:\n",
        "    steps_per_epoch = (num_train_sequences//batch_size) + 1\n",
        "\n",
        "if (num_val_sequences%batch_size) == 0:\n",
        "    validation_steps = int(num_val_sequences/batch_size)\n",
        "else:\n",
        "    validation_steps = (num_val_sequences//batch_size) + 1"
      ]
    },
    {
      "cell_type": "markdown",
      "metadata": {
        "id": "Etm0pIxiHaEj"
      },
      "source": [
        "Now let's fit the model. With the help of the checkpoints, you will be able to save the model at the conclusion of each epoch after the model has begun to be trained."
      ]
    },
    {
      "cell_type": "code",
      "execution_count": null,
      "metadata": {
        "id": "HH0un9j5HaEj",
        "outputId": "2aa70650-38af-4b57-8f67-e012f498fff9",
        "colab": {
          "base_uri": "https://localhost:8080/"
        }
      },
      "outputs": [
        {
          "output_type": "stream",
          "name": "stdout",
          "text": [
            "Epochs: 50\n"
          ]
        }
      ],
      "source": [
        "num_epochs = 50\n",
        "print(f\"Epochs: {num_epochs}\")"
      ]
    },
    {
      "cell_type": "code",
      "execution_count": null,
      "metadata": {
        "id": "Hv6DyE2wHaEj",
        "outputId": "f2e38e4d-3ad4-45bf-8ffb-c54c72e7f5ab",
        "colab": {
          "base_uri": "https://localhost:8080/"
        }
      },
      "outputs": [
        {
          "output_type": "stream",
          "name": "stdout",
          "text": [
            "Epoch 1/50\n",
            "17/17 [==============================] - ETA: 0s - loss: 0.2163 - categorical_accuracy: 0.9246\n",
            "Epoch 1: saving model to model_init_2022-12-1009_41_30.981528/model-00001-0.21627-0.92459-0.84007-0.75000.h5\n",
            "17/17 [==============================] - 133s 8s/step - loss: 0.2163 - categorical_accuracy: 0.9246 - val_loss: 0.8401 - val_categorical_accuracy: 0.7500 - lr: 0.0010\n",
            "Epoch 2/50\n",
            "17/17 [==============================] - ETA: 0s - loss: 0.2359 - categorical_accuracy: 0.9201\n",
            "Epoch 2: saving model to model_init_2022-12-1009_41_30.981528/model-00002-0.23595-0.92006-0.50109-0.66667.h5\n",
            "17/17 [==============================] - 135s 8s/step - loss: 0.2359 - categorical_accuracy: 0.9201 - val_loss: 0.5011 - val_categorical_accuracy: 0.6667 - lr: 0.0010\n",
            "Epoch 3/50\n",
            "17/17 [==============================] - ETA: 0s - loss: 0.2060 - categorical_accuracy: 0.9276\n",
            "Epoch 3: saving model to model_init_2022-12-1009_41_30.981528/model-00003-0.20596-0.92760-0.68074-0.66667.h5\n",
            "17/17 [==============================] - 133s 8s/step - loss: 0.2060 - categorical_accuracy: 0.9276 - val_loss: 0.6807 - val_categorical_accuracy: 0.6667 - lr: 0.0010\n",
            "Epoch 4/50\n",
            "17/17 [==============================] - ETA: 0s - loss: 0.2008 - categorical_accuracy: 0.9186\n",
            "Epoch 4: saving model to model_init_2022-12-1009_41_30.981528/model-00004-0.20076-0.91855-0.96459-0.58333.h5\n",
            "17/17 [==============================] - 132s 8s/step - loss: 0.2008 - categorical_accuracy: 0.9186 - val_loss: 0.9646 - val_categorical_accuracy: 0.5833 - lr: 0.0010\n",
            "Epoch 5/50\n",
            "17/17 [==============================] - ETA: 0s - loss: 0.2000 - categorical_accuracy: 0.9321\n",
            "Epoch 5: saving model to model_init_2022-12-1009_41_30.981528/model-00005-0.20004-0.93213-0.99764-0.75000.h5\n",
            "17/17 [==============================] - 136s 8s/step - loss: 0.2000 - categorical_accuracy: 0.9321 - val_loss: 0.9976 - val_categorical_accuracy: 0.7500 - lr: 0.0010\n",
            "Epoch 6/50\n",
            "17/17 [==============================] - ETA: 0s - loss: 0.1885 - categorical_accuracy: 0.9306\n",
            "Epoch 6: saving model to model_init_2022-12-1009_41_30.981528/model-00006-0.18845-0.93062-0.66483-0.83333.h5\n",
            "17/17 [==============================] - 135s 8s/step - loss: 0.1885 - categorical_accuracy: 0.9306 - val_loss: 0.6648 - val_categorical_accuracy: 0.8333 - lr: 0.0010\n",
            "Epoch 7/50\n",
            "17/17 [==============================] - ETA: 0s - loss: 0.1950 - categorical_accuracy: 0.9276\n",
            "Epoch 7: saving model to model_init_2022-12-1009_41_30.981528/model-00007-0.19499-0.92760-0.13727-1.00000.h5\n",
            "17/17 [==============================] - 133s 8s/step - loss: 0.1950 - categorical_accuracy: 0.9276 - val_loss: 0.1373 - val_categorical_accuracy: 1.0000 - lr: 0.0010\n",
            "Epoch 8/50\n",
            "17/17 [==============================] - ETA: 0s - loss: 0.1970 - categorical_accuracy: 0.9276\n",
            "Epoch 8: saving model to model_init_2022-12-1009_41_30.981528/model-00008-0.19696-0.92760-1.17483-0.58333.h5\n",
            "17/17 [==============================] - 132s 8s/step - loss: 0.1970 - categorical_accuracy: 0.9276 - val_loss: 1.1748 - val_categorical_accuracy: 0.5833 - lr: 0.0010\n",
            "Epoch 9/50\n",
            "17/17 [==============================] - ETA: 0s - loss: 0.1946 - categorical_accuracy: 0.9291\n",
            "Epoch 9: saving model to model_init_2022-12-1009_41_30.981528/model-00009-0.19464-0.92911-1.02649-0.75000.h5\n",
            "17/17 [==============================] - 136s 8s/step - loss: 0.1946 - categorical_accuracy: 0.9291 - val_loss: 1.0265 - val_categorical_accuracy: 0.7500 - lr: 0.0010\n",
            "Epoch 10/50\n",
            "17/17 [==============================] - ETA: 0s - loss: 0.1868 - categorical_accuracy: 0.9367\n",
            "Epoch 10: saving model to model_init_2022-12-1009_41_30.981528/model-00010-0.18683-0.93665-0.94549-0.58333.h5\n",
            "17/17 [==============================] - 129s 8s/step - loss: 0.1868 - categorical_accuracy: 0.9367 - val_loss: 0.9455 - val_categorical_accuracy: 0.5833 - lr: 0.0010\n",
            "Epoch 11/50\n",
            "17/17 [==============================] - ETA: 0s - loss: 0.1809 - categorical_accuracy: 0.9216\n",
            "Epoch 11: saving model to model_init_2022-12-1009_41_30.981528/model-00011-0.18087-0.92157-1.05843-0.66667.h5\n",
            "17/17 [==============================] - 136s 8s/step - loss: 0.1809 - categorical_accuracy: 0.9216 - val_loss: 1.0584 - val_categorical_accuracy: 0.6667 - lr: 0.0010\n",
            "Epoch 12/50\n",
            "17/17 [==============================] - ETA: 0s - loss: 0.1377 - categorical_accuracy: 0.9548\n",
            "Epoch 12: saving model to model_init_2022-12-1009_41_30.981528/model-00012-0.13774-0.95475-0.89718-0.66667.h5\n",
            "17/17 [==============================] - 132s 8s/step - loss: 0.1377 - categorical_accuracy: 0.9548 - val_loss: 0.8972 - val_categorical_accuracy: 0.6667 - lr: 0.0010\n",
            "Epoch 13/50\n",
            "17/17 [==============================] - ETA: 0s - loss: 0.1508 - categorical_accuracy: 0.9442\n",
            "Epoch 13: saving model to model_init_2022-12-1009_41_30.981528/model-00013-0.15079-0.94419-1.60396-0.58333.h5\n",
            "17/17 [==============================] - 133s 8s/step - loss: 0.1508 - categorical_accuracy: 0.9442 - val_loss: 1.6040 - val_categorical_accuracy: 0.5833 - lr: 0.0010\n",
            "Epoch 14/50\n",
            "17/17 [==============================] - ETA: 0s - loss: 0.1480 - categorical_accuracy: 0.9502\n",
            "Epoch 14: saving model to model_init_2022-12-1009_41_30.981528/model-00014-0.14797-0.95023-0.70045-0.66667.h5\n",
            "17/17 [==============================] - 135s 8s/step - loss: 0.1480 - categorical_accuracy: 0.9502 - val_loss: 0.7005 - val_categorical_accuracy: 0.6667 - lr: 0.0010\n",
            "Epoch 15/50\n",
            "17/17 [==============================] - ETA: 0s - loss: 0.1432 - categorical_accuracy: 0.9578\n",
            "Epoch 15: saving model to model_init_2022-12-1009_41_30.981528/model-00015-0.14324-0.95777-0.57485-0.83333.h5\n",
            "17/17 [==============================] - 137s 8s/step - loss: 0.1432 - categorical_accuracy: 0.9578 - val_loss: 0.5749 - val_categorical_accuracy: 0.8333 - lr: 0.0010\n",
            "Epoch 16/50\n",
            "17/17 [==============================] - ETA: 0s - loss: 0.1550 - categorical_accuracy: 0.9487\n",
            "Epoch 16: saving model to model_init_2022-12-1009_41_30.981528/model-00016-0.15497-0.94872-0.86871-0.66667.h5\n",
            "17/17 [==============================] - 129s 8s/step - loss: 0.1550 - categorical_accuracy: 0.9487 - val_loss: 0.8687 - val_categorical_accuracy: 0.6667 - lr: 0.0010\n",
            "Epoch 17/50\n",
            "17/17 [==============================] - ETA: 0s - loss: 0.1530 - categorical_accuracy: 0.9532\n",
            "Epoch 17: saving model to model_init_2022-12-1009_41_30.981528/model-00017-0.15300-0.95324-0.61553-0.66667.h5\n",
            "17/17 [==============================] - 139s 8s/step - loss: 0.1530 - categorical_accuracy: 0.9532 - val_loss: 0.6155 - val_categorical_accuracy: 0.6667 - lr: 0.0010\n",
            "Epoch 18/50\n",
            "17/17 [==============================] - ETA: 0s - loss: 0.1617 - categorical_accuracy: 0.9457\n",
            "Epoch 18: saving model to model_init_2022-12-1009_41_30.981528/model-00018-0.16175-0.94570-0.62784-0.75000.h5\n",
            "17/17 [==============================] - 131s 8s/step - loss: 0.1617 - categorical_accuracy: 0.9457 - val_loss: 0.6278 - val_categorical_accuracy: 0.7500 - lr: 0.0010\n",
            "Epoch 19/50\n",
            "17/17 [==============================] - ETA: 0s - loss: 0.1680 - categorical_accuracy: 0.9427\n",
            "Epoch 19: saving model to model_init_2022-12-1009_41_30.981528/model-00019-0.16803-0.94268-0.69555-0.66667.h5\n",
            "17/17 [==============================] - 139s 8s/step - loss: 0.1680 - categorical_accuracy: 0.9427 - val_loss: 0.6955 - val_categorical_accuracy: 0.6667 - lr: 0.0010\n",
            "Epoch 20/50\n",
            "17/17 [==============================] - ETA: 0s - loss: 0.1228 - categorical_accuracy: 0.9638\n",
            "Epoch 20: saving model to model_init_2022-12-1009_41_30.981528/model-00020-0.12281-0.96380-0.46033-0.91667.h5\n",
            "17/17 [==============================] - 135s 8s/step - loss: 0.1228 - categorical_accuracy: 0.9638 - val_loss: 0.4603 - val_categorical_accuracy: 0.9167 - lr: 0.0010\n",
            "Epoch 21/50\n",
            "17/17 [==============================] - ETA: 0s - loss: 0.1257 - categorical_accuracy: 0.9578\n",
            "Epoch 21: saving model to model_init_2022-12-1009_41_30.981528/model-00021-0.12567-0.95777-0.58166-0.75000.h5\n",
            "17/17 [==============================] - 137s 8s/step - loss: 0.1257 - categorical_accuracy: 0.9578 - val_loss: 0.5817 - val_categorical_accuracy: 0.7500 - lr: 0.0010\n",
            "Epoch 22/50\n",
            "17/17 [==============================] - ETA: 0s - loss: 0.1354 - categorical_accuracy: 0.9502\n",
            "Epoch 22: saving model to model_init_2022-12-1009_41_30.981528/model-00022-0.13535-0.95023-0.66703-0.83333.h5\n",
            "17/17 [==============================] - 140s 8s/step - loss: 0.1354 - categorical_accuracy: 0.9502 - val_loss: 0.6670 - val_categorical_accuracy: 0.8333 - lr: 0.0010\n",
            "Epoch 23/50\n",
            "17/17 [==============================] - ETA: 0s - loss: 0.1313 - categorical_accuracy: 0.9457\n",
            "Epoch 23: saving model to model_init_2022-12-1009_41_30.981528/model-00023-0.13133-0.94570-0.86593-0.58333.h5\n",
            "17/17 [==============================] - 140s 8s/step - loss: 0.1313 - categorical_accuracy: 0.9457 - val_loss: 0.8659 - val_categorical_accuracy: 0.5833 - lr: 0.0010\n",
            "Epoch 24/50\n",
            "17/17 [==============================] - ETA: 0s - loss: 0.0971 - categorical_accuracy: 0.9638\n",
            "Epoch 24: saving model to model_init_2022-12-1009_41_30.981528/model-00024-0.09710-0.96380-0.61510-0.75000.h5\n",
            "17/17 [==============================] - 147s 9s/step - loss: 0.0971 - categorical_accuracy: 0.9638 - val_loss: 0.6151 - val_categorical_accuracy: 0.7500 - lr: 0.0010\n",
            "Epoch 25/50\n",
            "17/17 [==============================] - ETA: 0s - loss: 0.1185 - categorical_accuracy: 0.9623\n",
            "Epoch 25: saving model to model_init_2022-12-1009_41_30.981528/model-00025-0.11849-0.96229-1.25713-0.58333.h5\n",
            "17/17 [==============================] - 138s 8s/step - loss: 0.1185 - categorical_accuracy: 0.9623 - val_loss: 1.2571 - val_categorical_accuracy: 0.5833 - lr: 0.0010\n",
            "Epoch 26/50\n",
            "17/17 [==============================] - ETA: 0s - loss: 0.1442 - categorical_accuracy: 0.9382\n",
            "Epoch 26: saving model to model_init_2022-12-1009_41_30.981528/model-00026-0.14422-0.93816-0.15428-1.00000.h5\n",
            "17/17 [==============================] - 135s 8s/step - loss: 0.1442 - categorical_accuracy: 0.9382 - val_loss: 0.1543 - val_categorical_accuracy: 1.0000 - lr: 0.0010\n",
            "Epoch 27/50\n",
            "17/17 [==============================] - ETA: 0s - loss: 0.1302 - categorical_accuracy: 0.9532\n",
            "Epoch 27: saving model to model_init_2022-12-1009_41_30.981528/model-00027-0.13016-0.95324-0.64127-0.75000.h5\n",
            "17/17 [==============================] - 130s 8s/step - loss: 0.1302 - categorical_accuracy: 0.9532 - val_loss: 0.6413 - val_categorical_accuracy: 0.7500 - lr: 0.0010\n",
            "Epoch 28/50\n",
            "17/17 [==============================] - ETA: 0s - loss: 0.1152 - categorical_accuracy: 0.9638\n",
            "Epoch 28: saving model to model_init_2022-12-1009_41_30.981528/model-00028-0.11523-0.96380-0.68331-0.83333.h5\n",
            "17/17 [==============================] - 139s 8s/step - loss: 0.1152 - categorical_accuracy: 0.9638 - val_loss: 0.6833 - val_categorical_accuracy: 0.8333 - lr: 0.0010\n",
            "Epoch 29/50\n",
            "17/17 [==============================] - ETA: 0s - loss: 0.1039 - categorical_accuracy: 0.9608\n",
            "Epoch 29: saving model to model_init_2022-12-1009_41_30.981528/model-00029-0.10391-0.96078-0.79089-0.83333.h5\n",
            "17/17 [==============================] - 134s 8s/step - loss: 0.1039 - categorical_accuracy: 0.9608 - val_loss: 0.7909 - val_categorical_accuracy: 0.8333 - lr: 0.0010\n",
            "Epoch 30/50\n",
            "17/17 [==============================] - ETA: 0s - loss: 0.1021 - categorical_accuracy: 0.9623\n",
            "Epoch 30: saving model to model_init_2022-12-1009_41_30.981528/model-00030-0.10212-0.96229-0.23143-0.91667.h5\n",
            "17/17 [==============================] - 143s 9s/step - loss: 0.1021 - categorical_accuracy: 0.9623 - val_loss: 0.2314 - val_categorical_accuracy: 0.9167 - lr: 0.0010\n",
            "Epoch 31/50\n",
            "17/17 [==============================] - ETA: 0s - loss: 0.1236 - categorical_accuracy: 0.9578\n",
            "Epoch 31: saving model to model_init_2022-12-1009_41_30.981528/model-00031-0.12362-0.95777-0.39072-0.83333.h5\n",
            "17/17 [==============================] - 137s 8s/step - loss: 0.1236 - categorical_accuracy: 0.9578 - val_loss: 0.3907 - val_categorical_accuracy: 0.8333 - lr: 0.0010\n",
            "Epoch 32/50\n",
            "17/17 [==============================] - ETA: 0s - loss: 0.0761 - categorical_accuracy: 0.9804\n",
            "Epoch 32: saving model to model_init_2022-12-1009_41_30.981528/model-00032-0.07607-0.98039-0.80480-0.75000.h5\n",
            "17/17 [==============================] - 137s 8s/step - loss: 0.0761 - categorical_accuracy: 0.9804 - val_loss: 0.8048 - val_categorical_accuracy: 0.7500 - lr: 0.0010\n",
            "Epoch 33/50\n",
            "17/17 [==============================] - ETA: 0s - loss: 0.0725 - categorical_accuracy: 0.9789\n",
            "Epoch 33: saving model to model_init_2022-12-1009_41_30.981528/model-00033-0.07250-0.97888-1.08033-0.75000.h5\n",
            "17/17 [==============================] - 137s 8s/step - loss: 0.0725 - categorical_accuracy: 0.9789 - val_loss: 1.0803 - val_categorical_accuracy: 0.7500 - lr: 0.0010\n",
            "Epoch 34/50\n",
            "17/17 [==============================] - ETA: 0s - loss: 0.0787 - categorical_accuracy: 0.9729\n",
            "Epoch 34: saving model to model_init_2022-12-1009_41_30.981528/model-00034-0.07873-0.97285-1.16209-0.58333.h5\n",
            "17/17 [==============================] - 137s 8s/step - loss: 0.0787 - categorical_accuracy: 0.9729 - val_loss: 1.1621 - val_categorical_accuracy: 0.5833 - lr: 0.0010\n",
            "Epoch 35/50\n",
            "17/17 [==============================] - ETA: 0s - loss: 0.0688 - categorical_accuracy: 0.9789\n",
            "Epoch 35: saving model to model_init_2022-12-1009_41_30.981528/model-00035-0.06875-0.97888-0.77271-0.83333.h5\n",
            "17/17 [==============================] - 135s 8s/step - loss: 0.0688 - categorical_accuracy: 0.9789 - val_loss: 0.7727 - val_categorical_accuracy: 0.8333 - lr: 0.0010\n",
            "Epoch 36/50\n",
            "17/17 [==============================] - ETA: 0s - loss: 0.0618 - categorical_accuracy: 0.9819\n",
            "Epoch 36: saving model to model_init_2022-12-1009_41_30.981528/model-00036-0.06177-0.98190-1.12537-0.75000.h5\n",
            "17/17 [==============================] - 134s 8s/step - loss: 0.0618 - categorical_accuracy: 0.9819 - val_loss: 1.1254 - val_categorical_accuracy: 0.7500 - lr: 0.0010\n",
            "Epoch 37/50\n",
            "17/17 [==============================] - ETA: 0s - loss: 0.1296 - categorical_accuracy: 0.9638\n",
            "Epoch 37: saving model to model_init_2022-12-1009_41_30.981528/model-00037-0.12959-0.96380-1.91609-0.66667.h5\n",
            "17/17 [==============================] - 135s 8s/step - loss: 0.1296 - categorical_accuracy: 0.9638 - val_loss: 1.9161 - val_categorical_accuracy: 0.6667 - lr: 0.0010\n",
            "Epoch 38/50\n",
            "17/17 [==============================] - ETA: 0s - loss: 0.0604 - categorical_accuracy: 0.9834\n",
            "Epoch 38: saving model to model_init_2022-12-1009_41_30.981528/model-00038-0.06035-0.98341-1.52070-0.58333.h5\n",
            "17/17 [==============================] - 134s 8s/step - loss: 0.0604 - categorical_accuracy: 0.9834 - val_loss: 1.5207 - val_categorical_accuracy: 0.5833 - lr: 0.0010\n",
            "Epoch 39/50\n",
            "17/17 [==============================] - ETA: 0s - loss: 0.0764 - categorical_accuracy: 0.9759\n",
            "Epoch 39: saving model to model_init_2022-12-1009_41_30.981528/model-00039-0.07636-0.97587-0.78317-0.83333.h5\n",
            "17/17 [==============================] - 130s 8s/step - loss: 0.0764 - categorical_accuracy: 0.9759 - val_loss: 0.7832 - val_categorical_accuracy: 0.8333 - lr: 0.0010\n",
            "Epoch 40/50\n",
            "17/17 [==============================] - ETA: 0s - loss: 0.0740 - categorical_accuracy: 0.9774\n",
            "Epoch 40: saving model to model_init_2022-12-1009_41_30.981528/model-00040-0.07397-0.97738-0.24465-0.91667.h5\n",
            "17/17 [==============================] - 134s 8s/step - loss: 0.0740 - categorical_accuracy: 0.9774 - val_loss: 0.2447 - val_categorical_accuracy: 0.9167 - lr: 0.0010\n",
            "Epoch 41/50\n",
            "17/17 [==============================] - ETA: 0s - loss: 0.0572 - categorical_accuracy: 0.9834\n",
            "Epoch 41: saving model to model_init_2022-12-1009_41_30.981528/model-00041-0.05719-0.98341-0.29674-0.83333.h5\n",
            "17/17 [==============================] - 135s 8s/step - loss: 0.0572 - categorical_accuracy: 0.9834 - val_loss: 0.2967 - val_categorical_accuracy: 0.8333 - lr: 0.0010\n",
            "Epoch 42/50\n",
            "17/17 [==============================] - ETA: 0s - loss: 0.0621 - categorical_accuracy: 0.9849\n",
            "Epoch 42: saving model to model_init_2022-12-1009_41_30.981528/model-00042-0.06208-0.98492-0.89548-0.58333.h5\n",
            "17/17 [==============================] - 132s 8s/step - loss: 0.0621 - categorical_accuracy: 0.9849 - val_loss: 0.8955 - val_categorical_accuracy: 0.5833 - lr: 0.0010\n",
            "Epoch 43/50\n",
            "17/17 [==============================] - ETA: 0s - loss: 0.0596 - categorical_accuracy: 0.9774\n",
            "Epoch 43: saving model to model_init_2022-12-1009_41_30.981528/model-00043-0.05960-0.97738-1.21005-0.66667.h5\n",
            "17/17 [==============================] - 134s 8s/step - loss: 0.0596 - categorical_accuracy: 0.9774 - val_loss: 1.2101 - val_categorical_accuracy: 0.6667 - lr: 0.0010\n",
            "Epoch 44/50\n",
            "17/17 [==============================] - ETA: 0s - loss: 0.0611 - categorical_accuracy: 0.9789\n",
            "Epoch 44: saving model to model_init_2022-12-1009_41_30.981528/model-00044-0.06107-0.97888-0.76442-0.66667.h5\n",
            "17/17 [==============================] - 131s 8s/step - loss: 0.0611 - categorical_accuracy: 0.9789 - val_loss: 0.7644 - val_categorical_accuracy: 0.6667 - lr: 0.0010\n",
            "Epoch 45/50\n",
            "17/17 [==============================] - ETA: 0s - loss: 0.0597 - categorical_accuracy: 0.9819\n",
            "Epoch 45: saving model to model_init_2022-12-1009_41_30.981528/model-00045-0.05965-0.98190-0.29657-0.91667.h5\n",
            "17/17 [==============================] - 134s 8s/step - loss: 0.0597 - categorical_accuracy: 0.9819 - val_loss: 0.2966 - val_categorical_accuracy: 0.9167 - lr: 0.0010\n",
            "Epoch 46/50\n",
            "17/17 [==============================] - ETA: 0s - loss: 0.0736 - categorical_accuracy: 0.9683\n",
            "Epoch 46: saving model to model_init_2022-12-1009_41_30.981528/model-00046-0.07362-0.96833-1.13293-0.58333.h5\n",
            "17/17 [==============================] - 128s 8s/step - loss: 0.0736 - categorical_accuracy: 0.9683 - val_loss: 1.1329 - val_categorical_accuracy: 0.5833 - lr: 0.0010\n",
            "Epoch 47/50\n",
            "17/17 [==============================] - ETA: 0s - loss: 0.0715 - categorical_accuracy: 0.9789\n",
            "Epoch 47: saving model to model_init_2022-12-1009_41_30.981528/model-00047-0.07149-0.97888-1.17080-0.75000.h5\n",
            "17/17 [==============================] - 135s 8s/step - loss: 0.0715 - categorical_accuracy: 0.9789 - val_loss: 1.1708 - val_categorical_accuracy: 0.7500 - lr: 0.0010\n",
            "Epoch 48/50\n",
            "17/17 [==============================] - ETA: 0s - loss: 0.1153 - categorical_accuracy: 0.9608\n",
            "Epoch 48: saving model to model_init_2022-12-1009_41_30.981528/model-00048-0.11534-0.96078-0.47161-0.91667.h5\n",
            "17/17 [==============================] - 130s 8s/step - loss: 0.1153 - categorical_accuracy: 0.9608 - val_loss: 0.4716 - val_categorical_accuracy: 0.9167 - lr: 0.0010\n",
            "Epoch 49/50\n",
            "17/17 [==============================] - ETA: 0s - loss: 0.0931 - categorical_accuracy: 0.9713\n",
            "Epoch 49: saving model to model_init_2022-12-1009_41_30.981528/model-00049-0.09311-0.97134-0.87664-0.75000.h5\n",
            "17/17 [==============================] - 132s 8s/step - loss: 0.0931 - categorical_accuracy: 0.9713 - val_loss: 0.8766 - val_categorical_accuracy: 0.7500 - lr: 0.0010\n",
            "Epoch 50/50\n",
            "17/17 [==============================] - ETA: 0s - loss: 0.0890 - categorical_accuracy: 0.9713\n",
            "Epoch 50: saving model to model_init_2022-12-1009_41_30.981528/model-00050-0.08901-0.97134-1.04956-0.75000.h5\n",
            "17/17 [==============================] - 130s 8s/step - loss: 0.0890 - categorical_accuracy: 0.9713 - val_loss: 1.0496 - val_categorical_accuracy: 0.7500 - lr: 0.0010\n"
          ]
        }
      ],
      "source": [
        "history = model.fit(train_generator, steps_per_epoch=steps_per_epoch, epochs=num_epochs, verbose=1, \n",
        "                    callbacks=callbacks_list, validation_data=val_generator, \n",
        "                    validation_steps=validation_steps, class_weight=None, workers=1, initial_epoch=0)"
      ]
    },
    {
      "cell_type": "code",
      "execution_count": null,
      "metadata": {
        "id": "Eg3yLBVoHaEj",
        "outputId": "7e71fc44-6c87-423e-9b8d-1bc8ebf027e6",
        "colab": {
          "base_uri": "https://localhost:8080/",
          "height": 402
        }
      },
      "outputs": [
        {
          "output_type": "execute_result",
          "data": {
            "text/plain": [
              "<matplotlib.legend.Legend at 0x7f175a40f850>"
            ]
          },
          "metadata": {},
          "execution_count": 36
        },
        {
          "output_type": "display_data",
          "data": {
            "text/plain": [
              "<Figure size 1440x432 with 2 Axes>"
            ],
            "image/png": "[encoded data removed]"
          },
          "metadata": {
            "needs_background": "light"
          }
        }
      ],
      "source": [
        "import matplotlib.pyplot as plt\n",
        "%matplotlib inline\n",
        "\n",
        "plt.figure(figsize=(20,6))\n",
        "ax1 = plt.subplot(121)\n",
        "ax1 = plt.plot(history.history['loss'])\n",
        "ax1 = plt.plot(history.history['val_loss'])\n",
        "plt.title('model loss')\n",
        "plt.ylabel('loss')\n",
        "plt.xlabel('epoch')\n",
        "plt.legend(['train', 'validation'], loc='lower left')\n",
        "ax2 = plt.subplot(122)\n",
        "ax2 = plt.plot(history.history['categorical_accuracy'])\n",
        "ax2 = plt.plot(history.history['val_categorical_accuracy'])\n",
        "plt.title('model accuracy')\n",
        "plt.ylabel('categorical_accuracy')\n",
        "plt.xlabel('epoch')\n",
        "plt.legend(['train', 'validation'], loc='lower left')"
      ]
    },
    {
      "cell_type": "code",
      "execution_count": null,
      "metadata": {
        "id": "e-E8qVl8HaEj"
      },
      "outputs": [],
      "source": []
    }
  ],
  "metadata": {
    "kernelspec": {
      "display_name": "Python 3 (ipykernel)",
      "language": "python",
      "name": "python3"
    },
    "language_info": {
      "codemirror_mode": {
        "name": "ipython",
        "version": 3
      },
      "file_extension": ".py",
      "mimetype": "text/x-python",
      "name": "python",
      "nbconvert_exporter": "python",
      "pygments_lexer": "ipython3",
      "version": "3.9.7"
    },
    "colab": {
      "provenance": []
    },
    "accelerator": "GPU",
    "gpuClass": "standard"
  },
  "nbformat": 4,
  "nbformat_minor": 0
}